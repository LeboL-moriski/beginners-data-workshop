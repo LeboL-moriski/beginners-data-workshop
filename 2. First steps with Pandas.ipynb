{
  "cells": [
    {
      "cell_type": "markdown",
      "metadata": {
        "id": "ilQ7Au2SUWsx"
      },
      "source": [
        "<div class=\"alert alert-block alert-info\" style=\"background-color: #301E40; border: 0px; -moz-border-radius: 10px; -webkit-border-radius: 10px;\">\n",
        "<br/><br/>\n",
        "<h1 style=\"font-size: 45px; color: white; align: center;\"><center>\n",
        "<img src=\"https://raw.githubusercontent.com/HumbleData/beginners-data-workshop/master/media/humble-data-logo-white-transparent.png\" width=\"250px\" /><br/><br/>\n",
        "Data Analysis with Pandas\n",
        "</center></h1>\n",
        "</div>"
      ]
    },
    {
      "cell_type": "markdown",
      "metadata": {
        "id": "qm-BImxZUWs6"
      },
      "source": [
        "> ***Note***: This notebook contains solution cells with ***a*** solution. Remember there is not only one solution to a problem!  \n",
        ">\n",
        "> You will recognise these cells as they start with **# %**.  \n",
        ">\n",
        "> If you would like to see the solution, you will have to remove the **#** (which can be done by using **Ctrl** and **?**) and run the cell. If you want to run the solution code, you will have to run the cell again."
      ]
    },
    {
      "cell_type": "markdown",
      "metadata": {
        "id": "7HQASR5rUWs7"
      },
      "source": [
        "<div class=\"alert alert-block alert-warning\" style=\"padding: 0px; padding-left: 20px; padding-top: 5px;\"><h2 style=\"color: #301E40\">\n",
        "Data analysis packages\n",
        "</h2><br>\n",
        "</div>"
      ]
    },
    {
      "cell_type": "markdown",
      "metadata": {
        "id": "mS09NVAIUWs8"
      },
      "source": [
        "Data Scientists use a wide variety of libraries in Python that make working with data significantly easier. Those libraries primarily consist of:\n",
        "\n",
        "| Package | Description |\n",
        "| -- | -- |\n",
        "| `NumPy` | Numerical calculations - does all the heavy lifting by passing out to C subroutines. This means you get _both_ the productivity of Python, _and_ the computational power of C. Best of both worlds! |\n",
        "| `SciPy` | Scientific computing, statistic tests, and much more! |\n",
        "| `pandas` | Your data manipulation swiss army knife. You'll likely see pandas used in any PyData demo! pandas is built on top of NumPy, so it's **fast**. |\n",
        "| `matplotlib` | An old but powerful data visualisation package, inspired by Matlab. |\n",
        "| `Seaborn` | A newer and easy-to-use but limited data visualisation package, built on top of matplotlib. |\n",
        "| `scikit-learn` | Your one-stop machine learning shop! Classification, regression, clustering, dimensional reduction and more. |\n",
        "| `nltk` and `spacy` | nltk = natural language processing toolkit; spacy is a newer package for natural language processing but very easy to use. |\n",
        "| `statsmodels` | Statistical tests, time series forecasting and more. The \"model formula\" interface will be familiar to R users. |\n",
        "| `requests` and `Beautiful Soup` | `requests` + `Beautiful Soup` = great combination for building web scrapers. |\n",
        "| `Jupyter` | Jupyter itself is a package too. See the latest version at https://pypi.org/project/jupyter/, and upgrade with e.g. `conda install jupyter==1.0.0` |\n",
        "\n",
        "Though there are countless others available.\n",
        "\n",
        "For today, we'll primarily focus ourselves around the library that is 99% of our work: `pandas`. Pandas is built on top of the speed and power of NumPy."
      ]
    },
    {
      "cell_type": "code",
      "source": [
        "!git clone https://github.com/HumbleData/beginners-data-workshop.git"
      ],
      "metadata": {
        "colab": {
          "base_uri": "https://localhost:8080/"
        },
        "id": "-ZkauUp0UoZF",
        "outputId": "5d787377-e8e4-4218-9194-e2daabe44f26"
      },
      "execution_count": 2,
      "outputs": [
        {
          "output_type": "stream",
          "name": "stdout",
          "text": [
            "Cloning into 'beginners-data-workshop'...\n",
            "remote: Enumerating objects: 984, done.\u001b[K\n",
            "remote: Counting objects: 100% (235/235), done.\u001b[K\n",
            "remote: Compressing objects: 100% (97/97), done.\u001b[K\n",
            "remote: Total 984 (delta 177), reused 143 (delta 138), pack-reused 749 (from 3)\u001b[K\n",
            "Receiving objects: 100% (984/984), 4.61 MiB | 21.45 MiB/s, done.\n",
            "Resolving deltas: 100% (433/433), done.\n"
          ]
        }
      ]
    },
    {
      "cell_type": "markdown",
      "metadata": {
        "id": "_IJO0_qYUWs8"
      },
      "source": [
        "---\n",
        "\n",
        "<div class=\"alert alert-block alert-warning\" style=\"padding: 0px; padding-left: 20px; padding-top: 5px;\"><h2 style=\"color: #301E40\">\n",
        "Imports\n",
        "</h2><br>\n",
        "</div>"
      ]
    },
    {
      "cell_type": "code",
      "execution_count": 3,
      "metadata": {
        "jupyter": {
          "outputs_hidden": false
        },
        "id": "3dUEVEBwUWs9"
      },
      "outputs": [],
      "source": [
        "import pandas as pd"
      ]
    },
    {
      "cell_type": "markdown",
      "metadata": {
        "id": "K-DBUt4IUWs-"
      },
      "source": [
        ">Import numpy using the convention seen at the end of the first notebook."
      ]
    },
    {
      "cell_type": "code",
      "execution_count": 4,
      "metadata": {
        "jupyter": {
          "outputs_hidden": false
        },
        "id": "wop_KLBgUWs_"
      },
      "outputs": [],
      "source": [
        "import numpy as np\n"
      ]
    },
    {
      "cell_type": "code",
      "execution_count": 6,
      "metadata": {
        "jupyter": {
          "outputs_hidden": false
        },
        "colab": {
          "base_uri": "https://localhost:8080/"
        },
        "id": "Nn7pGiv4UWs_",
        "outputId": "47bc37d8-b460-4825-82ae-1be5137bccaf"
      },
      "outputs": [
        {
          "output_type": "stream",
          "name": "stdout",
          "text": [
            "cat: solutions/02_01.py: No such file or directory\n"
          ]
        }
      ],
      "source": [
        "!cat solutions/02_01.py"
      ]
    },
    {
      "cell_type": "markdown",
      "metadata": {
        "id": "HyVMcBo1UWs_"
      },
      "source": [
        "---\n",
        "\n",
        "<div class=\"alert alert-block alert-warning\" style=\"padding: 0px; padding-left: 20px; padding-top: 5px;\"><h2 style=\"color: #301E40\">\n",
        "Loading the data\n",
        "</h2><br>\n",
        "</div>"
      ]
    },
    {
      "cell_type": "markdown",
      "metadata": {
        "id": "-wGDCmDHUWs_"
      },
      "source": [
        "To see a method's documentation, you can use the help function. In Jupyter, you can also just put a question mark before the method."
      ]
    },
    {
      "cell_type": "code",
      "execution_count": 8,
      "metadata": {
        "jupyter": {
          "outputs_hidden": false
        },
        "scrolled": true,
        "colab": {
          "base_uri": "https://localhost:8080/",
          "height": 550
        },
        "id": "E6Z6bo1OUWtA",
        "outputId": "c2853b5b-e94c-434e-900c-2cbfd4f3e53b"
      },
      "outputs": [
        {
          "output_type": "execute_result",
          "data": {
            "text/plain": [
              "<function pandas.io.parsers.readers.read_csv(filepath_or_buffer: 'FilePath | ReadCsvBuffer[bytes] | ReadCsvBuffer[str]', *, sep: 'str | None | lib.NoDefault' = <no_default>, delimiter: 'str | None | lib.NoDefault' = None, header: \"int | Sequence[int] | None | Literal['infer']\" = 'infer', names: 'Sequence[Hashable] | None | lib.NoDefault' = <no_default>, index_col: 'IndexLabel | Literal[False] | None' = None, usecols: 'UsecolsArgType' = None, dtype: 'DtypeArg | None' = None, engine: 'CSVEngine | None' = None, converters: 'Mapping[Hashable, Callable] | None' = None, true_values: 'list | None' = None, false_values: 'list | None' = None, skipinitialspace: 'bool' = False, skiprows: 'list[int] | int | Callable[[Hashable], bool] | None' = None, skipfooter: 'int' = 0, nrows: 'int | None' = None, na_values: 'Hashable | Iterable[Hashable] | Mapping[Hashable, Iterable[Hashable]] | None' = None, keep_default_na: 'bool' = True, na_filter: 'bool' = True, verbose: 'bool | lib.NoDefault' = <no_default>, skip_blank_lines: 'bool' = True, parse_dates: 'bool | Sequence[Hashable] | None' = None, infer_datetime_format: 'bool | lib.NoDefault' = <no_default>, keep_date_col: 'bool | lib.NoDefault' = <no_default>, date_parser: 'Callable | lib.NoDefault' = <no_default>, date_format: 'str | dict[Hashable, str] | None' = None, dayfirst: 'bool' = False, cache_dates: 'bool' = True, iterator: 'bool' = False, chunksize: 'int | None' = None, compression: 'CompressionOptions' = 'infer', thousands: 'str | None' = None, decimal: 'str' = '.', lineterminator: 'str | None' = None, quotechar: 'str' = '\"', quoting: 'int' = 0, doublequote: 'bool' = True, escapechar: 'str | None' = None, comment: 'str | None' = None, encoding: 'str | None' = None, encoding_errors: 'str | None' = 'strict', dialect: 'str | csv.Dialect | None' = None, on_bad_lines: 'str' = 'error', delim_whitespace: 'bool | lib.NoDefault' = <no_default>, low_memory: 'bool' = True, memory_map: 'bool' = False, float_precision: \"Literal['high', 'legacy'] | None\" = None, storage_options: 'StorageOptions | None' = None, dtype_backend: 'DtypeBackend | lib.NoDefault' = <no_default>) -> 'DataFrame | TextFileReader'>"
            ],
            "text/html": [
              "<div style=\"max-width:800px; border: 1px solid var(--colab-border-color);\"><style>\n",
              "      pre.function-repr-contents {\n",
              "        overflow-x: auto;\n",
              "        padding: 8px 12px;\n",
              "        max-height: 500px;\n",
              "      }\n",
              "\n",
              "      pre.function-repr-contents.function-repr-contents-collapsed {\n",
              "        cursor: pointer;\n",
              "        max-height: 100px;\n",
              "      }\n",
              "    </style>\n",
              "    <pre style=\"white-space: initial; background:\n",
              "         var(--colab-secondary-surface-color); padding: 8px 12px;\n",
              "         border-bottom: 1px solid var(--colab-border-color);\"><b>pandas.io.parsers.readers.read_csv</b><br/>def read_csv(filepath_or_buffer: FilePath | ReadCsvBuffer[bytes] | ReadCsvBuffer[str], *, sep: str | None | lib.NoDefault=lib.no_default, delimiter: str | None | lib.NoDefault=None, header: int | Sequence[int] | None | Literal[&#x27;infer&#x27;]=&#x27;infer&#x27;, names: Sequence[Hashable] | None | lib.NoDefault=lib.no_default, index_col: IndexLabel | Literal[False] | None=None, usecols: UsecolsArgType=None, dtype: DtypeArg | None=None, engine: CSVEngine | None=None, converters: Mapping[Hashable, Callable] | None=None, true_values: list | None=None, false_values: list | None=None, skipinitialspace: bool=False, skiprows: list[int] | int | Callable[[Hashable], bool] | None=None, skipfooter: int=0, nrows: int | None=None, na_values: Hashable | Iterable[Hashable] | Mapping[Hashable, Iterable[Hashable]] | None=None, keep_default_na: bool=True, na_filter: bool=True, verbose: bool | lib.NoDefault=lib.no_default, skip_blank_lines: bool=True, parse_dates: bool | Sequence[Hashable] | None=None, infer_datetime_format: bool | lib.NoDefault=lib.no_default, keep_date_col: bool | lib.NoDefault=lib.no_default, date_parser: Callable | lib.NoDefault=lib.no_default, date_format: str | dict[Hashable, str] | None=None, dayfirst: bool=False, cache_dates: bool=True, iterator: bool=False, chunksize: int | None=None, compression: CompressionOptions=&#x27;infer&#x27;, thousands: str | None=None, decimal: str=&#x27;.&#x27;, lineterminator: str | None=None, quotechar: str=&#x27;&quot;&#x27;, quoting: int=csv.QUOTE_MINIMAL, doublequote: bool=True, escapechar: str | None=None, comment: str | None=None, encoding: str | None=None, encoding_errors: str | None=&#x27;strict&#x27;, dialect: str | csv.Dialect | None=None, on_bad_lines: str=&#x27;error&#x27;, delim_whitespace: bool | lib.NoDefault=lib.no_default, low_memory: bool=_c_parser_defaults[&#x27;low_memory&#x27;], memory_map: bool=False, float_precision: Literal[&#x27;high&#x27;, &#x27;legacy&#x27;] | None=None, storage_options: StorageOptions | None=None, dtype_backend: DtypeBackend | lib.NoDefault=lib.no_default) -&gt; DataFrame | TextFileReader</pre><pre class=\"function-repr-contents function-repr-contents-collapsed\" style=\"\"><a class=\"filepath\" style=\"display:none\" href=\"#\">/usr/local/lib/python3.12/dist-packages/pandas/io/parsers/readers.py</a>Read a comma-separated values (csv) file into DataFrame.\n",
              "\n",
              "Also supports optionally iterating or breaking of the file\n",
              "into chunks.\n",
              "\n",
              "Additional help can be found in the online docs for\n",
              "`IO Tools &lt;https://pandas.pydata.org/pandas-docs/stable/user_guide/io.html&gt;`_.\n",
              "\n",
              "Parameters\n",
              "----------\n",
              "filepath_or_buffer : str, path object or file-like object\n",
              "    Any valid string path is acceptable. The string could be a URL. Valid\n",
              "    URL schemes include http, ftp, s3, gs, and file. For file URLs, a host is\n",
              "    expected. A local file could be: file://localhost/path/to/table.csv.\n",
              "\n",
              "    If you want to pass in a path object, pandas accepts any ``os.PathLike``.\n",
              "\n",
              "    By file-like object, we refer to objects with a ``read()`` method, such as\n",
              "    a file handle (e.g. via builtin ``open`` function) or ``StringIO``.\n",
              "sep : str, default &#x27;,&#x27;\n",
              "    Character or regex pattern to treat as the delimiter. If ``sep=None``, the\n",
              "    C engine cannot automatically detect\n",
              "    the separator, but the Python parsing engine can, meaning the latter will\n",
              "    be used and automatically detect the separator from only the first valid\n",
              "    row of the file by Python&#x27;s builtin sniffer tool, ``csv.Sniffer``.\n",
              "    In addition, separators longer than 1 character and different from\n",
              "    ``&#x27;\\s+&#x27;`` will be interpreted as regular expressions and will also force\n",
              "    the use of the Python parsing engine. Note that regex delimiters are prone\n",
              "    to ignoring quoted data. Regex example: ``&#x27;\\r\\t&#x27;``.\n",
              "delimiter : str, optional\n",
              "    Alias for ``sep``.\n",
              "header : int, Sequence of int, &#x27;infer&#x27; or None, default &#x27;infer&#x27;\n",
              "    Row number(s) containing column labels and marking the start of the\n",
              "    data (zero-indexed). Default behavior is to infer the column names: if no ``names``\n",
              "    are passed the behavior is identical to ``header=0`` and column\n",
              "    names are inferred from the first line of the file, if column\n",
              "    names are passed explicitly to ``names`` then the behavior is identical to\n",
              "    ``header=None``. Explicitly pass ``header=0`` to be able to\n",
              "    replace existing names. The header can be a list of integers that\n",
              "    specify row locations for a :class:`~pandas.MultiIndex` on the columns\n",
              "    e.g. ``[0, 1, 3]``. Intervening rows that are not specified will be\n",
              "    skipped (e.g. 2 in this example is skipped). Note that this\n",
              "    parameter ignores commented lines and empty lines if\n",
              "    ``skip_blank_lines=True``, so ``header=0`` denotes the first line of\n",
              "    data rather than the first line of the file.\n",
              "names : Sequence of Hashable, optional\n",
              "    Sequence of column labels to apply. If the file contains a header row,\n",
              "    then you should explicitly pass ``header=0`` to override the column names.\n",
              "    Duplicates in this list are not allowed.\n",
              "index_col : Hashable, Sequence of Hashable or False, optional\n",
              "  Column(s) to use as row label(s), denoted either by column labels or column\n",
              "  indices.  If a sequence of labels or indices is given, :class:`~pandas.MultiIndex`\n",
              "  will be formed for the row labels.\n",
              "\n",
              "  Note: ``index_col=False`` can be used to force pandas to *not* use the first\n",
              "  column as the index, e.g., when you have a malformed file with delimiters at\n",
              "  the end of each line.\n",
              "usecols : Sequence of Hashable or Callable, optional\n",
              "    Subset of columns to select, denoted either by column labels or column indices.\n",
              "    If list-like, all elements must either\n",
              "    be positional (i.e. integer indices into the document columns) or strings\n",
              "    that correspond to column names provided either by the user in ``names`` or\n",
              "    inferred from the document header row(s). If ``names`` are given, the document\n",
              "    header row(s) are not taken into account. For example, a valid list-like\n",
              "    ``usecols`` parameter would be ``[0, 1, 2]`` or ``[&#x27;foo&#x27;, &#x27;bar&#x27;, &#x27;baz&#x27;]``.\n",
              "    Element order is ignored, so ``usecols=[0, 1]`` is the same as ``[1, 0]``.\n",
              "    To instantiate a :class:`~pandas.DataFrame` from ``data`` with element order\n",
              "    preserved use ``pd.read_csv(data, usecols=[&#x27;foo&#x27;, &#x27;bar&#x27;])[[&#x27;foo&#x27;, &#x27;bar&#x27;]]``\n",
              "    for columns in ``[&#x27;foo&#x27;, &#x27;bar&#x27;]`` order or\n",
              "    ``pd.read_csv(data, usecols=[&#x27;foo&#x27;, &#x27;bar&#x27;])[[&#x27;bar&#x27;, &#x27;foo&#x27;]]``\n",
              "    for ``[&#x27;bar&#x27;, &#x27;foo&#x27;]`` order.\n",
              "\n",
              "    If callable, the callable function will be evaluated against the column\n",
              "    names, returning names where the callable function evaluates to ``True``. An\n",
              "    example of a valid callable argument would be ``lambda x: x.upper() in\n",
              "    [&#x27;AAA&#x27;, &#x27;BBB&#x27;, &#x27;DDD&#x27;]``. Using this parameter results in much faster\n",
              "    parsing time and lower memory usage.\n",
              "dtype : dtype or dict of {Hashable : dtype}, optional\n",
              "    Data type(s) to apply to either the whole dataset or individual columns.\n",
              "    E.g., ``{&#x27;a&#x27;: np.float64, &#x27;b&#x27;: np.int32, &#x27;c&#x27;: &#x27;Int64&#x27;}``\n",
              "    Use ``str`` or ``object`` together with suitable ``na_values`` settings\n",
              "    to preserve and not interpret ``dtype``.\n",
              "    If ``converters`` are specified, they will be applied INSTEAD\n",
              "    of ``dtype`` conversion.\n",
              "\n",
              "    .. versionadded:: 1.5.0\n",
              "\n",
              "        Support for ``defaultdict`` was added. Specify a ``defaultdict`` as input where\n",
              "        the default determines the ``dtype`` of the columns which are not explicitly\n",
              "        listed.\n",
              "engine : {&#x27;c&#x27;, &#x27;python&#x27;, &#x27;pyarrow&#x27;}, optional\n",
              "    Parser engine to use. The C and pyarrow engines are faster, while the python engine\n",
              "    is currently more feature-complete. Multithreading is currently only supported by\n",
              "    the pyarrow engine.\n",
              "\n",
              "    .. versionadded:: 1.4.0\n",
              "\n",
              "        The &#x27;pyarrow&#x27; engine was added as an *experimental* engine, and some features\n",
              "        are unsupported, or may not work correctly, with this engine.\n",
              "converters : dict of {Hashable : Callable}, optional\n",
              "    Functions for converting values in specified columns. Keys can either\n",
              "    be column labels or column indices.\n",
              "true_values : list, optional\n",
              "    Values to consider as ``True`` in addition to case-insensitive variants of &#x27;True&#x27;.\n",
              "false_values : list, optional\n",
              "    Values to consider as ``False`` in addition to case-insensitive variants of &#x27;False&#x27;.\n",
              "skipinitialspace : bool, default False\n",
              "    Skip spaces after delimiter.\n",
              "skiprows : int, list of int or Callable, optional\n",
              "    Line numbers to skip (0-indexed) or number of lines to skip (``int``)\n",
              "    at the start of the file.\n",
              "\n",
              "    If callable, the callable function will be evaluated against the row\n",
              "    indices, returning ``True`` if the row should be skipped and ``False`` otherwise.\n",
              "    An example of a valid callable argument would be ``lambda x: x in [0, 2]``.\n",
              "skipfooter : int, default 0\n",
              "    Number of lines at bottom of file to skip (Unsupported with ``engine=&#x27;c&#x27;``).\n",
              "nrows : int, optional\n",
              "    Number of rows of file to read. Useful for reading pieces of large files.\n",
              "na_values : Hashable, Iterable of Hashable or dict of {Hashable : Iterable}, optional\n",
              "    Additional strings to recognize as ``NA``/``NaN``. If ``dict`` passed, specific\n",
              "    per-column ``NA`` values.  By default the following values are interpreted as\n",
              "    ``NaN``: &quot; &quot;, &quot;#N/A&quot;, &quot;#N/A N/A&quot;, &quot;#NA&quot;, &quot;-1.#IND&quot;, &quot;-1.#QNAN&quot;, &quot;-NaN&quot;, &quot;-nan&quot;,\n",
              "    &quot;1.#IND&quot;, &quot;1.#QNAN&quot;, &quot;&lt;NA&gt;&quot;, &quot;N/A&quot;, &quot;NA&quot;, &quot;NULL&quot;, &quot;NaN&quot;, &quot;None&quot;,\n",
              "    &quot;n/a&quot;, &quot;nan&quot;, &quot;null &quot;.\n",
              "\n",
              "keep_default_na : bool, default True\n",
              "    Whether or not to include the default ``NaN`` values when parsing the data.\n",
              "    Depending on whether ``na_values`` is passed in, the behavior is as follows:\n",
              "\n",
              "    * If ``keep_default_na`` is ``True``, and ``na_values`` are specified, ``na_values``\n",
              "      is appended to the default ``NaN`` values used for parsing.\n",
              "    * If ``keep_default_na`` is ``True``, and ``na_values`` are not specified, only\n",
              "      the default ``NaN`` values are used for parsing.\n",
              "    * If ``keep_default_na`` is ``False``, and ``na_values`` are specified, only\n",
              "      the ``NaN`` values specified ``na_values`` are used for parsing.\n",
              "    * If ``keep_default_na`` is ``False``, and ``na_values`` are not specified, no\n",
              "      strings will be parsed as ``NaN``.\n",
              "\n",
              "    Note that if ``na_filter`` is passed in as ``False``, the ``keep_default_na`` and\n",
              "    ``na_values`` parameters will be ignored.\n",
              "na_filter : bool, default True\n",
              "    Detect missing value markers (empty strings and the value of ``na_values``). In\n",
              "    data without any ``NA`` values, passing ``na_filter=False`` can improve the\n",
              "    performance of reading a large file.\n",
              "verbose : bool, default False\n",
              "    Indicate number of ``NA`` values placed in non-numeric columns.\n",
              "\n",
              "    .. deprecated:: 2.2.0\n",
              "skip_blank_lines : bool, default True\n",
              "    If ``True``, skip over blank lines rather than interpreting as ``NaN`` values.\n",
              "parse_dates : bool, list of Hashable, list of lists or dict of {Hashable : list}, default False\n",
              "    The behavior is as follows:\n",
              "\n",
              "    * ``bool``. If ``True`` -&gt; try parsing the index. Note: Automatically set to\n",
              "      ``True`` if ``date_format`` or ``date_parser`` arguments have been passed.\n",
              "    * ``list`` of ``int`` or names. e.g. If ``[1, 2, 3]`` -&gt; try parsing columns 1, 2, 3\n",
              "      each as a separate date column.\n",
              "    * ``list`` of ``list``. e.g.  If ``[[1, 3]]`` -&gt; combine columns 1 and 3 and parse\n",
              "      as a single date column. Values are joined with a space before parsing.\n",
              "    * ``dict``, e.g. ``{&#x27;foo&#x27; : [1, 3]}`` -&gt; parse columns 1, 3 as date and call\n",
              "      result &#x27;foo&#x27;. Values are joined with a space before parsing.\n",
              "\n",
              "    If a column or index cannot be represented as an array of ``datetime``,\n",
              "    say because of an unparsable value or a mixture of timezones, the column\n",
              "    or index will be returned unaltered as an ``object`` data type. For\n",
              "    non-standard ``datetime`` parsing, use :func:`~pandas.to_datetime` after\n",
              "    :func:`~pandas.read_csv`.\n",
              "\n",
              "    Note: A fast-path exists for iso8601-formatted dates.\n",
              "infer_datetime_format : bool, default False\n",
              "    If ``True`` and ``parse_dates`` is enabled, pandas will attempt to infer the\n",
              "    format of the ``datetime`` strings in the columns, and if it can be inferred,\n",
              "    switch to a faster method of parsing them. In some cases this can increase\n",
              "    the parsing speed by 5-10x.\n",
              "\n",
              "    .. deprecated:: 2.0.0\n",
              "        A strict version of this argument is now the default, passing it has no effect.\n",
              "\n",
              "keep_date_col : bool, default False\n",
              "    If ``True`` and ``parse_dates`` specifies combining multiple columns then\n",
              "    keep the original columns.\n",
              "date_parser : Callable, optional\n",
              "    Function to use for converting a sequence of string columns to an array of\n",
              "    ``datetime`` instances. The default uses ``dateutil.parser.parser`` to do the\n",
              "    conversion. pandas will try to call ``date_parser`` in three different ways,\n",
              "    advancing to the next if an exception occurs: 1) Pass one or more arrays\n",
              "    (as defined by ``parse_dates``) as arguments; 2) concatenate (row-wise) the\n",
              "    string values from the columns defined by ``parse_dates`` into a single array\n",
              "    and pass that; and 3) call ``date_parser`` once for each row using one or\n",
              "    more strings (corresponding to the columns defined by ``parse_dates``) as\n",
              "    arguments.\n",
              "\n",
              "    .. deprecated:: 2.0.0\n",
              "       Use ``date_format`` instead, or read in as ``object`` and then apply\n",
              "       :func:`~pandas.to_datetime` as-needed.\n",
              "date_format : str or dict of column -&gt; format, optional\n",
              "    Format to use for parsing dates when used in conjunction with ``parse_dates``.\n",
              "    The strftime to parse time, e.g. :const:`&quot;%d/%m/%Y&quot;`. See\n",
              "    `strftime documentation\n",
              "    &lt;https://docs.python.org/3/library/datetime.html\n",
              "    #strftime-and-strptime-behavior&gt;`_ for more information on choices, though\n",
              "    note that :const:`&quot;%f&quot;` will parse all the way up to nanoseconds.\n",
              "    You can also pass:\n",
              "\n",
              "    - &quot;ISO8601&quot;, to parse any `ISO8601 &lt;https://en.wikipedia.org/wiki/ISO_8601&gt;`_\n",
              "        time string (not necessarily in exactly the same format);\n",
              "    - &quot;mixed&quot;, to infer the format for each element individually. This is risky,\n",
              "        and you should probably use it along with `dayfirst`.\n",
              "\n",
              "    .. versionadded:: 2.0.0\n",
              "dayfirst : bool, default False\n",
              "    DD/MM format dates, international and European format.\n",
              "cache_dates : bool, default True\n",
              "    If ``True``, use a cache of unique, converted dates to apply the ``datetime``\n",
              "    conversion. May produce significant speed-up when parsing duplicate\n",
              "    date strings, especially ones with timezone offsets.\n",
              "\n",
              "iterator : bool, default False\n",
              "    Return ``TextFileReader`` object for iteration or getting chunks with\n",
              "    ``get_chunk()``.\n",
              "chunksize : int, optional\n",
              "    Number of lines to read from the file per chunk. Passing a value will cause the\n",
              "    function to return a ``TextFileReader`` object for iteration.\n",
              "    See the `IO Tools docs\n",
              "    &lt;https://pandas.pydata.org/pandas-docs/stable/io.html#io-chunking&gt;`_\n",
              "    for more information on ``iterator`` and ``chunksize``.\n",
              "\n",
              "compression : str or dict, default &#x27;infer&#x27;\n",
              "    For on-the-fly decompression of on-disk data. If &#x27;infer&#x27; and &#x27;filepath_or_buffer&#x27; is\n",
              "    path-like, then detect compression from the following extensions: &#x27;.gz&#x27;,\n",
              "    &#x27;.bz2&#x27;, &#x27;.zip&#x27;, &#x27;.xz&#x27;, &#x27;.zst&#x27;, &#x27;.tar&#x27;, &#x27;.tar.gz&#x27;, &#x27;.tar.xz&#x27; or &#x27;.tar.bz2&#x27;\n",
              "    (otherwise no compression).\n",
              "    If using &#x27;zip&#x27; or &#x27;tar&#x27;, the ZIP file must contain only one data file to be read in.\n",
              "    Set to ``None`` for no decompression.\n",
              "    Can also be a dict with key ``&#x27;method&#x27;`` set\n",
              "    to one of {``&#x27;zip&#x27;``, ``&#x27;gzip&#x27;``, ``&#x27;bz2&#x27;``, ``&#x27;zstd&#x27;``, ``&#x27;xz&#x27;``, ``&#x27;tar&#x27;``} and\n",
              "    other key-value pairs are forwarded to\n",
              "    ``zipfile.ZipFile``, ``gzip.GzipFile``,\n",
              "    ``bz2.BZ2File``, ``zstandard.ZstdDecompressor``, ``lzma.LZMAFile`` or\n",
              "    ``tarfile.TarFile``, respectively.\n",
              "    As an example, the following could be passed for Zstandard decompression using a\n",
              "    custom compression dictionary:\n",
              "    ``compression={&#x27;method&#x27;: &#x27;zstd&#x27;, &#x27;dict_data&#x27;: my_compression_dict}``.\n",
              "\n",
              "    .. versionadded:: 1.5.0\n",
              "        Added support for `.tar` files.\n",
              "\n",
              "    .. versionchanged:: 1.4.0 Zstandard support.\n",
              "\n",
              "thousands : str (length 1), optional\n",
              "    Character acting as the thousands separator in numerical values.\n",
              "decimal : str (length 1), default &#x27;.&#x27;\n",
              "    Character to recognize as decimal point (e.g., use &#x27;,&#x27; for European data).\n",
              "lineterminator : str (length 1), optional\n",
              "    Character used to denote a line break. Only valid with C parser.\n",
              "quotechar : str (length 1), optional\n",
              "    Character used to denote the start and end of a quoted item. Quoted\n",
              "    items can include the ``delimiter`` and it will be ignored.\n",
              "quoting : {0 or csv.QUOTE_MINIMAL, 1 or csv.QUOTE_ALL, 2 or csv.QUOTE_NONNUMERIC, 3 or csv.QUOTE_NONE}, default csv.QUOTE_MINIMAL\n",
              "    Control field quoting behavior per ``csv.QUOTE_*`` constants. Default is\n",
              "    ``csv.QUOTE_MINIMAL`` (i.e., 0) which implies that only fields containing special\n",
              "    characters are quoted (e.g., characters defined in ``quotechar``, ``delimiter``,\n",
              "    or ``lineterminator``.\n",
              "doublequote : bool, default True\n",
              "   When ``quotechar`` is specified and ``quoting`` is not ``QUOTE_NONE``, indicate\n",
              "   whether or not to interpret two consecutive ``quotechar`` elements INSIDE a\n",
              "   field as a single ``quotechar`` element.\n",
              "escapechar : str (length 1), optional\n",
              "    Character used to escape other characters.\n",
              "comment : str (length 1), optional\n",
              "    Character indicating that the remainder of line should not be parsed.\n",
              "    If found at the beginning\n",
              "    of a line, the line will be ignored altogether. This parameter must be a\n",
              "    single character. Like empty lines (as long as ``skip_blank_lines=True``),\n",
              "    fully commented lines are ignored by the parameter ``header`` but not by\n",
              "    ``skiprows``. For example, if ``comment=&#x27;#&#x27;``, parsing\n",
              "    ``#empty\\na,b,c\\n1,2,3`` with ``header=0`` will result in ``&#x27;a,b,c&#x27;`` being\n",
              "    treated as the header.\n",
              "encoding : str, optional, default &#x27;utf-8&#x27;\n",
              "    Encoding to use for UTF when reading/writing (ex. ``&#x27;utf-8&#x27;``). `List of Python\n",
              "    standard encodings\n",
              "    &lt;https://docs.python.org/3/library/codecs.html#standard-encodings&gt;`_ .\n",
              "\n",
              "encoding_errors : str, optional, default &#x27;strict&#x27;\n",
              "    How encoding errors are treated. `List of possible values\n",
              "    &lt;https://docs.python.org/3/library/codecs.html#error-handlers&gt;`_ .\n",
              "\n",
              "    .. versionadded:: 1.3.0\n",
              "\n",
              "dialect : str or csv.Dialect, optional\n",
              "    If provided, this parameter will override values (default or not) for the\n",
              "    following parameters: ``delimiter``, ``doublequote``, ``escapechar``,\n",
              "    ``skipinitialspace``, ``quotechar``, and ``quoting``. If it is necessary to\n",
              "    override values, a ``ParserWarning`` will be issued. See ``csv.Dialect``\n",
              "    documentation for more details.\n",
              "on_bad_lines : {&#x27;error&#x27;, &#x27;warn&#x27;, &#x27;skip&#x27;} or Callable, default &#x27;error&#x27;\n",
              "    Specifies what to do upon encountering a bad line (a line with too many fields).\n",
              "    Allowed values are :\n",
              "\n",
              "    - ``&#x27;error&#x27;``, raise an Exception when a bad line is encountered.\n",
              "    - ``&#x27;warn&#x27;``, raise a warning when a bad line is encountered and skip that line.\n",
              "    - ``&#x27;skip&#x27;``, skip bad lines without raising or warning when they are encountered.\n",
              "\n",
              "    .. versionadded:: 1.3.0\n",
              "\n",
              "    .. versionadded:: 1.4.0\n",
              "\n",
              "        - Callable, function with signature\n",
              "          ``(bad_line: list[str]) -&gt; list[str] | None`` that will process a single\n",
              "          bad line. ``bad_line`` is a list of strings split by the ``sep``.\n",
              "          If the function returns ``None``, the bad line will be ignored.\n",
              "          If the function returns a new ``list`` of strings with more elements than\n",
              "          expected, a ``ParserWarning`` will be emitted while dropping extra elements.\n",
              "          Only supported when ``engine=&#x27;python&#x27;``\n",
              "\n",
              "    .. versionchanged:: 2.2.0\n",
              "\n",
              "        - Callable, function with signature\n",
              "          as described in `pyarrow documentation\n",
              "          &lt;https://arrow.apache.org/docs/python/generated/pyarrow.csv.ParseOptions.html\n",
              "          #pyarrow.csv.ParseOptions.invalid_row_handler&gt;`_ when ``engine=&#x27;pyarrow&#x27;``\n",
              "\n",
              "delim_whitespace : bool, default False\n",
              "    Specifies whether or not whitespace (e.g. ``&#x27; &#x27;`` or ``&#x27;\\t&#x27;``) will be\n",
              "    used as the ``sep`` delimiter. Equivalent to setting ``sep=&#x27;\\s+&#x27;``. If this option\n",
              "    is set to ``True``, nothing should be passed in for the ``delimiter``\n",
              "    parameter.\n",
              "\n",
              "    .. deprecated:: 2.2.0\n",
              "        Use ``sep=&quot;\\s+&quot;`` instead.\n",
              "low_memory : bool, default True\n",
              "    Internally process the file in chunks, resulting in lower memory use\n",
              "    while parsing, but possibly mixed type inference.  To ensure no mixed\n",
              "    types either set ``False``, or specify the type with the ``dtype`` parameter.\n",
              "    Note that the entire file is read into a single :class:`~pandas.DataFrame`\n",
              "    regardless, use the ``chunksize`` or ``iterator`` parameter to return the data in\n",
              "    chunks. (Only valid with C parser).\n",
              "memory_map : bool, default False\n",
              "    If a filepath is provided for ``filepath_or_buffer``, map the file object\n",
              "    directly onto memory and access the data directly from there. Using this\n",
              "    option can improve performance because there is no longer any I/O overhead.\n",
              "float_precision : {&#x27;high&#x27;, &#x27;legacy&#x27;, &#x27;round_trip&#x27;}, optional\n",
              "    Specifies which converter the C engine should use for floating-point\n",
              "    values. The options are ``None`` or ``&#x27;high&#x27;`` for the ordinary converter,\n",
              "    ``&#x27;legacy&#x27;`` for the original lower precision pandas converter, and\n",
              "    ``&#x27;round_trip&#x27;`` for the round-trip converter.\n",
              "\n",
              "storage_options : dict, optional\n",
              "    Extra options that make sense for a particular storage connection, e.g.\n",
              "    host, port, username, password, etc. For HTTP(S) URLs the key-value pairs\n",
              "    are forwarded to ``urllib.request.Request`` as header options. For other\n",
              "    URLs (e.g. starting with &quot;s3://&quot;, and &quot;gcs://&quot;) the key-value pairs are\n",
              "    forwarded to ``fsspec.open``. Please see ``fsspec`` and ``urllib`` for more\n",
              "    details, and for more examples on storage options refer `here\n",
              "    &lt;https://pandas.pydata.org/docs/user_guide/io.html?\n",
              "    highlight=storage_options#reading-writing-remote-files&gt;`_.\n",
              "\n",
              "dtype_backend : {&#x27;numpy_nullable&#x27;, &#x27;pyarrow&#x27;}, default &#x27;numpy_nullable&#x27;\n",
              "    Back-end data type applied to the resultant :class:`DataFrame`\n",
              "    (still experimental). Behaviour is as follows:\n",
              "\n",
              "    * ``&quot;numpy_nullable&quot;``: returns nullable-dtype-backed :class:`DataFrame`\n",
              "      (default).\n",
              "    * ``&quot;pyarrow&quot;``: returns pyarrow-backed nullable :class:`ArrowDtype`\n",
              "      DataFrame.\n",
              "\n",
              "    .. versionadded:: 2.0\n",
              "\n",
              "Returns\n",
              "-------\n",
              "DataFrame or TextFileReader\n",
              "    A comma-separated values (csv) file is returned as two-dimensional\n",
              "    data structure with labeled axes.\n",
              "\n",
              "See Also\n",
              "--------\n",
              "DataFrame.to_csv : Write DataFrame to a comma-separated values (csv) file.\n",
              "read_table : Read general delimited file into DataFrame.\n",
              "read_fwf : Read a table of fixed-width formatted lines into DataFrame.\n",
              "\n",
              "Examples\n",
              "--------\n",
              "&gt;&gt;&gt; pd.read_csv(&#x27;data.csv&#x27;)  # doctest: +SKIP</pre>\n",
              "      <script>\n",
              "      if (google.colab.kernel.accessAllowed && google.colab.files && google.colab.files.view) {\n",
              "        for (const element of document.querySelectorAll('.filepath')) {\n",
              "          element.style.display = 'block'\n",
              "          element.onclick = (event) => {\n",
              "            event.preventDefault();\n",
              "            event.stopPropagation();\n",
              "            google.colab.files.view(element.textContent, 868);\n",
              "          };\n",
              "        }\n",
              "      }\n",
              "      for (const element of document.querySelectorAll('.function-repr-contents')) {\n",
              "        element.onclick = (event) => {\n",
              "          event.preventDefault();\n",
              "          event.stopPropagation();\n",
              "          element.classList.toggle('function-repr-contents-collapsed');\n",
              "        };\n",
              "      }\n",
              "      </script>\n",
              "      </div>"
            ]
          },
          "metadata": {},
          "execution_count": 8
        }
      ],
      "source": [
        "pd.read_csv"
      ]
    },
    {
      "cell_type": "markdown",
      "metadata": {
        "id": "kuMFnPEyUWtA"
      },
      "source": [
        "To load the dataframe we are using in this notebook, we will provide the path to the file: ../data/Penguins/penguins.csv"
      ]
    },
    {
      "cell_type": "markdown",
      "metadata": {
        "id": "c8zhGHQXUWtA"
      },
      "source": [
        "*italicized text*>Load the dataframe, read it into a pandas DataFrame and assign it to df"
      ]
    },
    {
      "cell_type": "code",
      "execution_count": 20,
      "metadata": {
        "jupyter": {
          "outputs_hidden": false
        },
        "colab": {
          "base_uri": "https://localhost:8080/",
          "height": 423
        },
        "id": "mQzY0LRhUWtA",
        "outputId": "064b16ab-9272-440d-c1f3-143a221ff5fa"
      },
      "outputs": [
        {
          "output_type": "execute_result",
          "data": {
            "text/plain": [
              "    species     island  bill_length_mm  bill_depth_mm  flipper_length_mm  \\\n",
              "0    Adelie  Torgersen            39.1           18.7              181.0   \n",
              "1    Adelie  Torgersen            39.5           17.4              186.0   \n",
              "2    Adelie  Torgersen            40.3           18.0              195.0   \n",
              "3    Adelie  Torgersen             NaN            NaN                NaN   \n",
              "4       NaN        NaN             NaN            NaN                NaN   \n",
              "..      ...        ...             ...            ...                ...   \n",
              "350  Gentoo     Biscoe            46.8           14.3              215.0   \n",
              "351  Gentoo     Biscoe            50.4           15.7              222.0   \n",
              "352  Gentoo     Biscoe            45.2           14.8              212.0   \n",
              "353  Gentoo     Biscoe            45.2           14.8              212.0   \n",
              "354  Gentoo     Biscoe            49.9           16.1              213.0   \n",
              "\n",
              "     body_mass_g     sex  \n",
              "0         3750.0    Male  \n",
              "1         3800.0  Female  \n",
              "2         3250.0  Female  \n",
              "3            NaN     NaN  \n",
              "4            NaN     NaN  \n",
              "..           ...     ...  \n",
              "350       4850.0  Female  \n",
              "351       5750.0    Male  \n",
              "352       5200.0  Female  \n",
              "353       5200.0  Female  \n",
              "354       5400.0    Male  \n",
              "\n",
              "[355 rows x 7 columns]"
            ],
            "text/html": [
              "\n",
              "  <div id=\"df-34633140-64b0-4068-80ed-704763e25e2f\" class=\"colab-df-container\">\n",
              "    <div>\n",
              "<style scoped>\n",
              "    .dataframe tbody tr th:only-of-type {\n",
              "        vertical-align: middle;\n",
              "    }\n",
              "\n",
              "    .dataframe tbody tr th {\n",
              "        vertical-align: top;\n",
              "    }\n",
              "\n",
              "    .dataframe thead th {\n",
              "        text-align: right;\n",
              "    }\n",
              "</style>\n",
              "<table border=\"1\" class=\"dataframe\">\n",
              "  <thead>\n",
              "    <tr style=\"text-align: right;\">\n",
              "      <th></th>\n",
              "      <th>species</th>\n",
              "      <th>island</th>\n",
              "      <th>bill_length_mm</th>\n",
              "      <th>bill_depth_mm</th>\n",
              "      <th>flipper_length_mm</th>\n",
              "      <th>body_mass_g</th>\n",
              "      <th>sex</th>\n",
              "    </tr>\n",
              "  </thead>\n",
              "  <tbody>\n",
              "    <tr>\n",
              "      <th>0</th>\n",
              "      <td>Adelie</td>\n",
              "      <td>Torgersen</td>\n",
              "      <td>39.1</td>\n",
              "      <td>18.7</td>\n",
              "      <td>181.0</td>\n",
              "      <td>3750.0</td>\n",
              "      <td>Male</td>\n",
              "    </tr>\n",
              "    <tr>\n",
              "      <th>1</th>\n",
              "      <td>Adelie</td>\n",
              "      <td>Torgersen</td>\n",
              "      <td>39.5</td>\n",
              "      <td>17.4</td>\n",
              "      <td>186.0</td>\n",
              "      <td>3800.0</td>\n",
              "      <td>Female</td>\n",
              "    </tr>\n",
              "    <tr>\n",
              "      <th>2</th>\n",
              "      <td>Adelie</td>\n",
              "      <td>Torgersen</td>\n",
              "      <td>40.3</td>\n",
              "      <td>18.0</td>\n",
              "      <td>195.0</td>\n",
              "      <td>3250.0</td>\n",
              "      <td>Female</td>\n",
              "    </tr>\n",
              "    <tr>\n",
              "      <th>3</th>\n",
              "      <td>Adelie</td>\n",
              "      <td>Torgersen</td>\n",
              "      <td>NaN</td>\n",
              "      <td>NaN</td>\n",
              "      <td>NaN</td>\n",
              "      <td>NaN</td>\n",
              "      <td>NaN</td>\n",
              "    </tr>\n",
              "    <tr>\n",
              "      <th>4</th>\n",
              "      <td>NaN</td>\n",
              "      <td>NaN</td>\n",
              "      <td>NaN</td>\n",
              "      <td>NaN</td>\n",
              "      <td>NaN</td>\n",
              "      <td>NaN</td>\n",
              "      <td>NaN</td>\n",
              "    </tr>\n",
              "    <tr>\n",
              "      <th>...</th>\n",
              "      <td>...</td>\n",
              "      <td>...</td>\n",
              "      <td>...</td>\n",
              "      <td>...</td>\n",
              "      <td>...</td>\n",
              "      <td>...</td>\n",
              "      <td>...</td>\n",
              "    </tr>\n",
              "    <tr>\n",
              "      <th>350</th>\n",
              "      <td>Gentoo</td>\n",
              "      <td>Biscoe</td>\n",
              "      <td>46.8</td>\n",
              "      <td>14.3</td>\n",
              "      <td>215.0</td>\n",
              "      <td>4850.0</td>\n",
              "      <td>Female</td>\n",
              "    </tr>\n",
              "    <tr>\n",
              "      <th>351</th>\n",
              "      <td>Gentoo</td>\n",
              "      <td>Biscoe</td>\n",
              "      <td>50.4</td>\n",
              "      <td>15.7</td>\n",
              "      <td>222.0</td>\n",
              "      <td>5750.0</td>\n",
              "      <td>Male</td>\n",
              "    </tr>\n",
              "    <tr>\n",
              "      <th>352</th>\n",
              "      <td>Gentoo</td>\n",
              "      <td>Biscoe</td>\n",
              "      <td>45.2</td>\n",
              "      <td>14.8</td>\n",
              "      <td>212.0</td>\n",
              "      <td>5200.0</td>\n",
              "      <td>Female</td>\n",
              "    </tr>\n",
              "    <tr>\n",
              "      <th>353</th>\n",
              "      <td>Gentoo</td>\n",
              "      <td>Biscoe</td>\n",
              "      <td>45.2</td>\n",
              "      <td>14.8</td>\n",
              "      <td>212.0</td>\n",
              "      <td>5200.0</td>\n",
              "      <td>Female</td>\n",
              "    </tr>\n",
              "    <tr>\n",
              "      <th>354</th>\n",
              "      <td>Gentoo</td>\n",
              "      <td>Biscoe</td>\n",
              "      <td>49.9</td>\n",
              "      <td>16.1</td>\n",
              "      <td>213.0</td>\n",
              "      <td>5400.0</td>\n",
              "      <td>Male</td>\n",
              "    </tr>\n",
              "  </tbody>\n",
              "</table>\n",
              "<p>355 rows × 7 columns</p>\n",
              "</div>\n",
              "    <div class=\"colab-df-buttons\">\n",
              "\n",
              "  <div class=\"colab-df-container\">\n",
              "    <button class=\"colab-df-convert\" onclick=\"convertToInteractive('df-34633140-64b0-4068-80ed-704763e25e2f')\"\n",
              "            title=\"Convert this dataframe to an interactive table.\"\n",
              "            style=\"display:none;\">\n",
              "\n",
              "  <svg xmlns=\"http://www.w3.org/2000/svg\" height=\"24px\" viewBox=\"0 -960 960 960\">\n",
              "    <path d=\"M120-120v-720h720v720H120Zm60-500h600v-160H180v160Zm220 220h160v-160H400v160Zm0 220h160v-160H400v160ZM180-400h160v-160H180v160Zm440 0h160v-160H620v160ZM180-180h160v-160H180v160Zm440 0h160v-160H620v160Z\"/>\n",
              "  </svg>\n",
              "    </button>\n",
              "\n",
              "  <style>\n",
              "    .colab-df-container {\n",
              "      display:flex;\n",
              "      gap: 12px;\n",
              "    }\n",
              "\n",
              "    .colab-df-convert {\n",
              "      background-color: #E8F0FE;\n",
              "      border: none;\n",
              "      border-radius: 50%;\n",
              "      cursor: pointer;\n",
              "      display: none;\n",
              "      fill: #1967D2;\n",
              "      height: 32px;\n",
              "      padding: 0 0 0 0;\n",
              "      width: 32px;\n",
              "    }\n",
              "\n",
              "    .colab-df-convert:hover {\n",
              "      background-color: #E2EBFA;\n",
              "      box-shadow: 0px 1px 2px rgba(60, 64, 67, 0.3), 0px 1px 3px 1px rgba(60, 64, 67, 0.15);\n",
              "      fill: #174EA6;\n",
              "    }\n",
              "\n",
              "    .colab-df-buttons div {\n",
              "      margin-bottom: 4px;\n",
              "    }\n",
              "\n",
              "    [theme=dark] .colab-df-convert {\n",
              "      background-color: #3B4455;\n",
              "      fill: #D2E3FC;\n",
              "    }\n",
              "\n",
              "    [theme=dark] .colab-df-convert:hover {\n",
              "      background-color: #434B5C;\n",
              "      box-shadow: 0px 1px 3px 1px rgba(0, 0, 0, 0.15);\n",
              "      filter: drop-shadow(0px 1px 2px rgba(0, 0, 0, 0.3));\n",
              "      fill: #FFFFFF;\n",
              "    }\n",
              "  </style>\n",
              "\n",
              "    <script>\n",
              "      const buttonEl =\n",
              "        document.querySelector('#df-34633140-64b0-4068-80ed-704763e25e2f button.colab-df-convert');\n",
              "      buttonEl.style.display =\n",
              "        google.colab.kernel.accessAllowed ? 'block' : 'none';\n",
              "\n",
              "      async function convertToInteractive(key) {\n",
              "        const element = document.querySelector('#df-34633140-64b0-4068-80ed-704763e25e2f');\n",
              "        const dataTable =\n",
              "          await google.colab.kernel.invokeFunction('convertToInteractive',\n",
              "                                                    [key], {});\n",
              "        if (!dataTable) return;\n",
              "\n",
              "        const docLinkHtml = 'Like what you see? Visit the ' +\n",
              "          '<a target=\"_blank\" href=https://colab.research.google.com/notebooks/data_table.ipynb>data table notebook</a>'\n",
              "          + ' to learn more about interactive tables.';\n",
              "        element.innerHTML = '';\n",
              "        dataTable['output_type'] = 'display_data';\n",
              "        await google.colab.output.renderOutput(dataTable, element);\n",
              "        const docLink = document.createElement('div');\n",
              "        docLink.innerHTML = docLinkHtml;\n",
              "        element.appendChild(docLink);\n",
              "      }\n",
              "    </script>\n",
              "  </div>\n",
              "\n",
              "\n",
              "    <div id=\"df-a0f235c3-2bc8-44bc-988d-06ee4a8982d2\">\n",
              "      <button class=\"colab-df-quickchart\" onclick=\"quickchart('df-a0f235c3-2bc8-44bc-988d-06ee4a8982d2')\"\n",
              "                title=\"Suggest charts\"\n",
              "                style=\"display:none;\">\n",
              "\n",
              "<svg xmlns=\"http://www.w3.org/2000/svg\" height=\"24px\"viewBox=\"0 0 24 24\"\n",
              "     width=\"24px\">\n",
              "    <g>\n",
              "        <path d=\"M19 3H5c-1.1 0-2 .9-2 2v14c0 1.1.9 2 2 2h14c1.1 0 2-.9 2-2V5c0-1.1-.9-2-2-2zM9 17H7v-7h2v7zm4 0h-2V7h2v10zm4 0h-2v-4h2v4z\"/>\n",
              "    </g>\n",
              "</svg>\n",
              "      </button>\n",
              "\n",
              "<style>\n",
              "  .colab-df-quickchart {\n",
              "      --bg-color: #E8F0FE;\n",
              "      --fill-color: #1967D2;\n",
              "      --hover-bg-color: #E2EBFA;\n",
              "      --hover-fill-color: #174EA6;\n",
              "      --disabled-fill-color: #AAA;\n",
              "      --disabled-bg-color: #DDD;\n",
              "  }\n",
              "\n",
              "  [theme=dark] .colab-df-quickchart {\n",
              "      --bg-color: #3B4455;\n",
              "      --fill-color: #D2E3FC;\n",
              "      --hover-bg-color: #434B5C;\n",
              "      --hover-fill-color: #FFFFFF;\n",
              "      --disabled-bg-color: #3B4455;\n",
              "      --disabled-fill-color: #666;\n",
              "  }\n",
              "\n",
              "  .colab-df-quickchart {\n",
              "    background-color: var(--bg-color);\n",
              "    border: none;\n",
              "    border-radius: 50%;\n",
              "    cursor: pointer;\n",
              "    display: none;\n",
              "    fill: var(--fill-color);\n",
              "    height: 32px;\n",
              "    padding: 0;\n",
              "    width: 32px;\n",
              "  }\n",
              "\n",
              "  .colab-df-quickchart:hover {\n",
              "    background-color: var(--hover-bg-color);\n",
              "    box-shadow: 0 1px 2px rgba(60, 64, 67, 0.3), 0 1px 3px 1px rgba(60, 64, 67, 0.15);\n",
              "    fill: var(--button-hover-fill-color);\n",
              "  }\n",
              "\n",
              "  .colab-df-quickchart-complete:disabled,\n",
              "  .colab-df-quickchart-complete:disabled:hover {\n",
              "    background-color: var(--disabled-bg-color);\n",
              "    fill: var(--disabled-fill-color);\n",
              "    box-shadow: none;\n",
              "  }\n",
              "\n",
              "  .colab-df-spinner {\n",
              "    border: 2px solid var(--fill-color);\n",
              "    border-color: transparent;\n",
              "    border-bottom-color: var(--fill-color);\n",
              "    animation:\n",
              "      spin 1s steps(1) infinite;\n",
              "  }\n",
              "\n",
              "  @keyframes spin {\n",
              "    0% {\n",
              "      border-color: transparent;\n",
              "      border-bottom-color: var(--fill-color);\n",
              "      border-left-color: var(--fill-color);\n",
              "    }\n",
              "    20% {\n",
              "      border-color: transparent;\n",
              "      border-left-color: var(--fill-color);\n",
              "      border-top-color: var(--fill-color);\n",
              "    }\n",
              "    30% {\n",
              "      border-color: transparent;\n",
              "      border-left-color: var(--fill-color);\n",
              "      border-top-color: var(--fill-color);\n",
              "      border-right-color: var(--fill-color);\n",
              "    }\n",
              "    40% {\n",
              "      border-color: transparent;\n",
              "      border-right-color: var(--fill-color);\n",
              "      border-top-color: var(--fill-color);\n",
              "    }\n",
              "    60% {\n",
              "      border-color: transparent;\n",
              "      border-right-color: var(--fill-color);\n",
              "    }\n",
              "    80% {\n",
              "      border-color: transparent;\n",
              "      border-right-color: var(--fill-color);\n",
              "      border-bottom-color: var(--fill-color);\n",
              "    }\n",
              "    90% {\n",
              "      border-color: transparent;\n",
              "      border-bottom-color: var(--fill-color);\n",
              "    }\n",
              "  }\n",
              "</style>\n",
              "\n",
              "      <script>\n",
              "        async function quickchart(key) {\n",
              "          const quickchartButtonEl =\n",
              "            document.querySelector('#' + key + ' button');\n",
              "          quickchartButtonEl.disabled = true;  // To prevent multiple clicks.\n",
              "          quickchartButtonEl.classList.add('colab-df-spinner');\n",
              "          try {\n",
              "            const charts = await google.colab.kernel.invokeFunction(\n",
              "                'suggestCharts', [key], {});\n",
              "          } catch (error) {\n",
              "            console.error('Error during call to suggestCharts:', error);\n",
              "          }\n",
              "          quickchartButtonEl.classList.remove('colab-df-spinner');\n",
              "          quickchartButtonEl.classList.add('colab-df-quickchart-complete');\n",
              "        }\n",
              "        (() => {\n",
              "          let quickchartButtonEl =\n",
              "            document.querySelector('#df-a0f235c3-2bc8-44bc-988d-06ee4a8982d2 button');\n",
              "          quickchartButtonEl.style.display =\n",
              "            google.colab.kernel.accessAllowed ? 'block' : 'none';\n",
              "        })();\n",
              "      </script>\n",
              "    </div>\n",
              "\n",
              "    </div>\n",
              "  </div>\n"
            ],
            "application/vnd.google.colaboratory.intrinsic+json": {
              "type": "dataframe",
              "summary": "{\n  \"name\": \"pd\",\n  \"rows\": 355,\n  \"fields\": [\n    {\n      \"column\": \"species\",\n      \"properties\": {\n        \"dtype\": \"category\",\n        \"num_unique_values\": 3,\n        \"samples\": [\n          \"Adelie\",\n          \"Chinstrap\",\n          \"Gentoo\"\n        ],\n        \"semantic_type\": \"\",\n        \"description\": \"\"\n      }\n    },\n    {\n      \"column\": \"island\",\n      \"properties\": {\n        \"dtype\": \"category\",\n        \"num_unique_values\": 3,\n        \"samples\": [\n          \"Torgersen\",\n          \"Biscoe\",\n          \"Dream\"\n        ],\n        \"semantic_type\": \"\",\n        \"description\": \"\"\n      }\n    },\n    {\n      \"column\": \"bill_length_mm\",\n      \"properties\": {\n        \"dtype\": \"number\",\n        \"std\": 5.43864357451707,\n        \"min\": 32.1,\n        \"max\": 59.6,\n        \"num_unique_values\": 164,\n        \"samples\": [\n          48.2,\n          49.8,\n          45.1\n        ],\n        \"semantic_type\": \"\",\n        \"description\": \"\"\n      }\n    },\n    {\n      \"column\": \"bill_depth_mm\",\n      \"properties\": {\n        \"dtype\": \"number\",\n        \"std\": 1.9686376774566186,\n        \"min\": 13.1,\n        \"max\": 21.5,\n        \"num_unique_values\": 80,\n        \"samples\": [\n          16.9,\n          18.7,\n          18.6\n        ],\n        \"semantic_type\": \"\",\n        \"description\": \"\"\n      }\n    },\n    {\n      \"column\": \"flipper_length_mm\",\n      \"properties\": {\n        \"dtype\": \"number\",\n        \"std\": 14.056792203546957,\n        \"min\": 172.0,\n        \"max\": 231.0,\n        \"num_unique_values\": 55,\n        \"samples\": [\n          201.0,\n          180.0,\n          212.0\n        ],\n        \"semantic_type\": \"\",\n        \"description\": \"\"\n      }\n    },\n    {\n      \"column\": \"body_mass_g\",\n      \"properties\": {\n        \"dtype\": \"number\",\n        \"std\": 803.800907753085,\n        \"min\": 2700.0,\n        \"max\": 6300.0,\n        \"num_unique_values\": 94,\n        \"samples\": [\n          4350.0,\n          4150.0,\n          3525.0\n        ],\n        \"semantic_type\": \"\",\n        \"description\": \"\"\n      }\n    },\n    {\n      \"column\": \"sex\",\n      \"properties\": {\n        \"dtype\": \"category\",\n        \"num_unique_values\": 2,\n        \"samples\": [\n          \"Female\",\n          \"Male\"\n        ],\n        \"semantic_type\": \"\",\n        \"description\": \"\"\n      }\n    }\n  ]\n}"
            }
          },
          "metadata": {},
          "execution_count": 20
        }
      ],
      "source": [
        "pd.read_csv('data/Penguins/penguins.csv')"
      ]
    },
    {
      "cell_type": "code",
      "execution_count": 23,
      "metadata": {
        "jupyter": {
          "outputs_hidden": false
        },
        "colab": {
          "base_uri": "https://localhost:8080/"
        },
        "id": "K-wusrMnUWtB",
        "outputId": "3260ece8-91c8-4f38-e564-2504d382c01f"
      },
      "outputs": [
        {
          "output_type": "stream",
          "name": "stdout",
          "text": [
            "df = pd.read_csv(\"../data/Penguins/penguins.csv\")"
          ]
        }
      ],
      "source": [
        "!cat solutions/02_02.py"
      ]
    },
    {
      "cell_type": "markdown",
      "metadata": {
        "id": "c7xAmoOhUWtB"
      },
      "source": [
        "**To have a look at the first 5 rows of df, we can use the *head* method.**"
      ]
    },
    {
      "cell_type": "code",
      "execution_count": 11,
      "metadata": {
        "jupyter": {
          "outputs_hidden": false
        },
        "colab": {
          "base_uri": "https://localhost:8080/",
          "height": 206
        },
        "id": "WJIyxggeUWtB",
        "outputId": "2f33798c-c1b5-437c-f279-07074f168e54"
      },
      "outputs": [
        {
          "output_type": "execute_result",
          "data": {
            "text/plain": [
              "  species     island  bill_length_mm  bill_depth_mm  flipper_length_mm  \\\n",
              "0  Adelie  Torgersen            39.1           18.7              181.0   \n",
              "1  Adelie  Torgersen            39.5           17.4              186.0   \n",
              "2  Adelie  Torgersen            40.3           18.0              195.0   \n",
              "3  Adelie  Torgersen             NaN            NaN                NaN   \n",
              "4     NaN        NaN             NaN            NaN                NaN   \n",
              "\n",
              "   body_mass_g     sex  \n",
              "0       3750.0    Male  \n",
              "1       3800.0  Female  \n",
              "2       3250.0  Female  \n",
              "3          NaN     NaN  \n",
              "4          NaN     NaN  "
            ],
            "text/html": [
              "\n",
              "  <div id=\"df-cefb2c38-8d3b-438b-907e-2e337c9fa475\" class=\"colab-df-container\">\n",
              "    <div>\n",
              "<style scoped>\n",
              "    .dataframe tbody tr th:only-of-type {\n",
              "        vertical-align: middle;\n",
              "    }\n",
              "\n",
              "    .dataframe tbody tr th {\n",
              "        vertical-align: top;\n",
              "    }\n",
              "\n",
              "    .dataframe thead th {\n",
              "        text-align: right;\n",
              "    }\n",
              "</style>\n",
              "<table border=\"1\" class=\"dataframe\">\n",
              "  <thead>\n",
              "    <tr style=\"text-align: right;\">\n",
              "      <th></th>\n",
              "      <th>species</th>\n",
              "      <th>island</th>\n",
              "      <th>bill_length_mm</th>\n",
              "      <th>bill_depth_mm</th>\n",
              "      <th>flipper_length_mm</th>\n",
              "      <th>body_mass_g</th>\n",
              "      <th>sex</th>\n",
              "    </tr>\n",
              "  </thead>\n",
              "  <tbody>\n",
              "    <tr>\n",
              "      <th>0</th>\n",
              "      <td>Adelie</td>\n",
              "      <td>Torgersen</td>\n",
              "      <td>39.1</td>\n",
              "      <td>18.7</td>\n",
              "      <td>181.0</td>\n",
              "      <td>3750.0</td>\n",
              "      <td>Male</td>\n",
              "    </tr>\n",
              "    <tr>\n",
              "      <th>1</th>\n",
              "      <td>Adelie</td>\n",
              "      <td>Torgersen</td>\n",
              "      <td>39.5</td>\n",
              "      <td>17.4</td>\n",
              "      <td>186.0</td>\n",
              "      <td>3800.0</td>\n",
              "      <td>Female</td>\n",
              "    </tr>\n",
              "    <tr>\n",
              "      <th>2</th>\n",
              "      <td>Adelie</td>\n",
              "      <td>Torgersen</td>\n",
              "      <td>40.3</td>\n",
              "      <td>18.0</td>\n",
              "      <td>195.0</td>\n",
              "      <td>3250.0</td>\n",
              "      <td>Female</td>\n",
              "    </tr>\n",
              "    <tr>\n",
              "      <th>3</th>\n",
              "      <td>Adelie</td>\n",
              "      <td>Torgersen</td>\n",
              "      <td>NaN</td>\n",
              "      <td>NaN</td>\n",
              "      <td>NaN</td>\n",
              "      <td>NaN</td>\n",
              "      <td>NaN</td>\n",
              "    </tr>\n",
              "    <tr>\n",
              "      <th>4</th>\n",
              "      <td>NaN</td>\n",
              "      <td>NaN</td>\n",
              "      <td>NaN</td>\n",
              "      <td>NaN</td>\n",
              "      <td>NaN</td>\n",
              "      <td>NaN</td>\n",
              "      <td>NaN</td>\n",
              "    </tr>\n",
              "  </tbody>\n",
              "</table>\n",
              "</div>\n",
              "    <div class=\"colab-df-buttons\">\n",
              "\n",
              "  <div class=\"colab-df-container\">\n",
              "    <button class=\"colab-df-convert\" onclick=\"convertToInteractive('df-cefb2c38-8d3b-438b-907e-2e337c9fa475')\"\n",
              "            title=\"Convert this dataframe to an interactive table.\"\n",
              "            style=\"display:none;\">\n",
              "\n",
              "  <svg xmlns=\"http://www.w3.org/2000/svg\" height=\"24px\" viewBox=\"0 -960 960 960\">\n",
              "    <path d=\"M120-120v-720h720v720H120Zm60-500h600v-160H180v160Zm220 220h160v-160H400v160Zm0 220h160v-160H400v160ZM180-400h160v-160H180v160Zm440 0h160v-160H620v160ZM180-180h160v-160H180v160Zm440 0h160v-160H620v160Z\"/>\n",
              "  </svg>\n",
              "    </button>\n",
              "\n",
              "  <style>\n",
              "    .colab-df-container {\n",
              "      display:flex;\n",
              "      gap: 12px;\n",
              "    }\n",
              "\n",
              "    .colab-df-convert {\n",
              "      background-color: #E8F0FE;\n",
              "      border: none;\n",
              "      border-radius: 50%;\n",
              "      cursor: pointer;\n",
              "      display: none;\n",
              "      fill: #1967D2;\n",
              "      height: 32px;\n",
              "      padding: 0 0 0 0;\n",
              "      width: 32px;\n",
              "    }\n",
              "\n",
              "    .colab-df-convert:hover {\n",
              "      background-color: #E2EBFA;\n",
              "      box-shadow: 0px 1px 2px rgba(60, 64, 67, 0.3), 0px 1px 3px 1px rgba(60, 64, 67, 0.15);\n",
              "      fill: #174EA6;\n",
              "    }\n",
              "\n",
              "    .colab-df-buttons div {\n",
              "      margin-bottom: 4px;\n",
              "    }\n",
              "\n",
              "    [theme=dark] .colab-df-convert {\n",
              "      background-color: #3B4455;\n",
              "      fill: #D2E3FC;\n",
              "    }\n",
              "\n",
              "    [theme=dark] .colab-df-convert:hover {\n",
              "      background-color: #434B5C;\n",
              "      box-shadow: 0px 1px 3px 1px rgba(0, 0, 0, 0.15);\n",
              "      filter: drop-shadow(0px 1px 2px rgba(0, 0, 0, 0.3));\n",
              "      fill: #FFFFFF;\n",
              "    }\n",
              "  </style>\n",
              "\n",
              "    <script>\n",
              "      const buttonEl =\n",
              "        document.querySelector('#df-cefb2c38-8d3b-438b-907e-2e337c9fa475 button.colab-df-convert');\n",
              "      buttonEl.style.display =\n",
              "        google.colab.kernel.accessAllowed ? 'block' : 'none';\n",
              "\n",
              "      async function convertToInteractive(key) {\n",
              "        const element = document.querySelector('#df-cefb2c38-8d3b-438b-907e-2e337c9fa475');\n",
              "        const dataTable =\n",
              "          await google.colab.kernel.invokeFunction('convertToInteractive',\n",
              "                                                    [key], {});\n",
              "        if (!dataTable) return;\n",
              "\n",
              "        const docLinkHtml = 'Like what you see? Visit the ' +\n",
              "          '<a target=\"_blank\" href=https://colab.research.google.com/notebooks/data_table.ipynb>data table notebook</a>'\n",
              "          + ' to learn more about interactive tables.';\n",
              "        element.innerHTML = '';\n",
              "        dataTable['output_type'] = 'display_data';\n",
              "        await google.colab.output.renderOutput(dataTable, element);\n",
              "        const docLink = document.createElement('div');\n",
              "        docLink.innerHTML = docLinkHtml;\n",
              "        element.appendChild(docLink);\n",
              "      }\n",
              "    </script>\n",
              "  </div>\n",
              "\n",
              "\n",
              "    <div id=\"df-49f6fe2a-57d3-412c-bde8-b46d8ceb2310\">\n",
              "      <button class=\"colab-df-quickchart\" onclick=\"quickchart('df-49f6fe2a-57d3-412c-bde8-b46d8ceb2310')\"\n",
              "                title=\"Suggest charts\"\n",
              "                style=\"display:none;\">\n",
              "\n",
              "<svg xmlns=\"http://www.w3.org/2000/svg\" height=\"24px\"viewBox=\"0 0 24 24\"\n",
              "     width=\"24px\">\n",
              "    <g>\n",
              "        <path d=\"M19 3H5c-1.1 0-2 .9-2 2v14c0 1.1.9 2 2 2h14c1.1 0 2-.9 2-2V5c0-1.1-.9-2-2-2zM9 17H7v-7h2v7zm4 0h-2V7h2v10zm4 0h-2v-4h2v4z\"/>\n",
              "    </g>\n",
              "</svg>\n",
              "      </button>\n",
              "\n",
              "<style>\n",
              "  .colab-df-quickchart {\n",
              "      --bg-color: #E8F0FE;\n",
              "      --fill-color: #1967D2;\n",
              "      --hover-bg-color: #E2EBFA;\n",
              "      --hover-fill-color: #174EA6;\n",
              "      --disabled-fill-color: #AAA;\n",
              "      --disabled-bg-color: #DDD;\n",
              "  }\n",
              "\n",
              "  [theme=dark] .colab-df-quickchart {\n",
              "      --bg-color: #3B4455;\n",
              "      --fill-color: #D2E3FC;\n",
              "      --hover-bg-color: #434B5C;\n",
              "      --hover-fill-color: #FFFFFF;\n",
              "      --disabled-bg-color: #3B4455;\n",
              "      --disabled-fill-color: #666;\n",
              "  }\n",
              "\n",
              "  .colab-df-quickchart {\n",
              "    background-color: var(--bg-color);\n",
              "    border: none;\n",
              "    border-radius: 50%;\n",
              "    cursor: pointer;\n",
              "    display: none;\n",
              "    fill: var(--fill-color);\n",
              "    height: 32px;\n",
              "    padding: 0;\n",
              "    width: 32px;\n",
              "  }\n",
              "\n",
              "  .colab-df-quickchart:hover {\n",
              "    background-color: var(--hover-bg-color);\n",
              "    box-shadow: 0 1px 2px rgba(60, 64, 67, 0.3), 0 1px 3px 1px rgba(60, 64, 67, 0.15);\n",
              "    fill: var(--button-hover-fill-color);\n",
              "  }\n",
              "\n",
              "  .colab-df-quickchart-complete:disabled,\n",
              "  .colab-df-quickchart-complete:disabled:hover {\n",
              "    background-color: var(--disabled-bg-color);\n",
              "    fill: var(--disabled-fill-color);\n",
              "    box-shadow: none;\n",
              "  }\n",
              "\n",
              "  .colab-df-spinner {\n",
              "    border: 2px solid var(--fill-color);\n",
              "    border-color: transparent;\n",
              "    border-bottom-color: var(--fill-color);\n",
              "    animation:\n",
              "      spin 1s steps(1) infinite;\n",
              "  }\n",
              "\n",
              "  @keyframes spin {\n",
              "    0% {\n",
              "      border-color: transparent;\n",
              "      border-bottom-color: var(--fill-color);\n",
              "      border-left-color: var(--fill-color);\n",
              "    }\n",
              "    20% {\n",
              "      border-color: transparent;\n",
              "      border-left-color: var(--fill-color);\n",
              "      border-top-color: var(--fill-color);\n",
              "    }\n",
              "    30% {\n",
              "      border-color: transparent;\n",
              "      border-left-color: var(--fill-color);\n",
              "      border-top-color: var(--fill-color);\n",
              "      border-right-color: var(--fill-color);\n",
              "    }\n",
              "    40% {\n",
              "      border-color: transparent;\n",
              "      border-right-color: var(--fill-color);\n",
              "      border-top-color: var(--fill-color);\n",
              "    }\n",
              "    60% {\n",
              "      border-color: transparent;\n",
              "      border-right-color: var(--fill-color);\n",
              "    }\n",
              "    80% {\n",
              "      border-color: transparent;\n",
              "      border-right-color: var(--fill-color);\n",
              "      border-bottom-color: var(--fill-color);\n",
              "    }\n",
              "    90% {\n",
              "      border-color: transparent;\n",
              "      border-bottom-color: var(--fill-color);\n",
              "    }\n",
              "  }\n",
              "</style>\n",
              "\n",
              "      <script>\n",
              "        async function quickchart(key) {\n",
              "          const quickchartButtonEl =\n",
              "            document.querySelector('#' + key + ' button');\n",
              "          quickchartButtonEl.disabled = true;  // To prevent multiple clicks.\n",
              "          quickchartButtonEl.classList.add('colab-df-spinner');\n",
              "          try {\n",
              "            const charts = await google.colab.kernel.invokeFunction(\n",
              "                'suggestCharts', [key], {});\n",
              "          } catch (error) {\n",
              "            console.error('Error during call to suggestCharts:', error);\n",
              "          }\n",
              "          quickchartButtonEl.classList.remove('colab-df-spinner');\n",
              "          quickchartButtonEl.classList.add('colab-df-quickchart-complete');\n",
              "        }\n",
              "        (() => {\n",
              "          let quickchartButtonEl =\n",
              "            document.querySelector('#df-49f6fe2a-57d3-412c-bde8-b46d8ceb2310 button');\n",
              "          quickchartButtonEl.style.display =\n",
              "            google.colab.kernel.accessAllowed ? 'block' : 'none';\n",
              "        })();\n",
              "      </script>\n",
              "    </div>\n",
              "\n",
              "    </div>\n",
              "  </div>\n"
            ],
            "application/vnd.google.colaboratory.intrinsic+json": {
              "type": "dataframe",
              "variable_name": "df",
              "summary": "{\n  \"name\": \"df\",\n  \"rows\": 355,\n  \"fields\": [\n    {\n      \"column\": \"species\",\n      \"properties\": {\n        \"dtype\": \"category\",\n        \"num_unique_values\": 3,\n        \"samples\": [\n          \"Adelie\",\n          \"Chinstrap\",\n          \"Gentoo\"\n        ],\n        \"semantic_type\": \"\",\n        \"description\": \"\"\n      }\n    },\n    {\n      \"column\": \"island\",\n      \"properties\": {\n        \"dtype\": \"category\",\n        \"num_unique_values\": 3,\n        \"samples\": [\n          \"Torgersen\",\n          \"Biscoe\",\n          \"Dream\"\n        ],\n        \"semantic_type\": \"\",\n        \"description\": \"\"\n      }\n    },\n    {\n      \"column\": \"bill_length_mm\",\n      \"properties\": {\n        \"dtype\": \"number\",\n        \"std\": 5.43864357451707,\n        \"min\": 32.1,\n        \"max\": 59.6,\n        \"num_unique_values\": 164,\n        \"samples\": [\n          48.2,\n          49.8,\n          45.1\n        ],\n        \"semantic_type\": \"\",\n        \"description\": \"\"\n      }\n    },\n    {\n      \"column\": \"bill_depth_mm\",\n      \"properties\": {\n        \"dtype\": \"number\",\n        \"std\": 1.9686376774566186,\n        \"min\": 13.1,\n        \"max\": 21.5,\n        \"num_unique_values\": 80,\n        \"samples\": [\n          16.9,\n          18.7,\n          18.6\n        ],\n        \"semantic_type\": \"\",\n        \"description\": \"\"\n      }\n    },\n    {\n      \"column\": \"flipper_length_mm\",\n      \"properties\": {\n        \"dtype\": \"number\",\n        \"std\": 14.056792203546957,\n        \"min\": 172.0,\n        \"max\": 231.0,\n        \"num_unique_values\": 55,\n        \"samples\": [\n          201.0,\n          180.0,\n          212.0\n        ],\n        \"semantic_type\": \"\",\n        \"description\": \"\"\n      }\n    },\n    {\n      \"column\": \"body_mass_g\",\n      \"properties\": {\n        \"dtype\": \"number\",\n        \"std\": 803.800907753085,\n        \"min\": 2700.0,\n        \"max\": 6300.0,\n        \"num_unique_values\": 94,\n        \"samples\": [\n          4350.0,\n          4150.0,\n          3525.0\n        ],\n        \"semantic_type\": \"\",\n        \"description\": \"\"\n      }\n    },\n    {\n      \"column\": \"sex\",\n      \"properties\": {\n        \"dtype\": \"category\",\n        \"num_unique_values\": 2,\n        \"samples\": [\n          \"Female\",\n          \"Male\"\n        ],\n        \"semantic_type\": \"\",\n        \"description\": \"\"\n      }\n    }\n  ]\n}"
            }
          },
          "metadata": {},
          "execution_count": 11
        }
      ],
      "source": [
        "df.head()"
      ]
    },
    {
      "cell_type": "markdown",
      "metadata": {
        "id": "xBn3Nqa0UWtB"
      },
      "source": [
        ">Have a look at the last 3 rows of df using the tail method"
      ]
    },
    {
      "cell_type": "code",
      "execution_count": 12,
      "metadata": {
        "jupyter": {
          "outputs_hidden": false
        },
        "colab": {
          "base_uri": "https://localhost:8080/",
          "height": 143
        },
        "id": "7FsEZFwEUWtB",
        "outputId": "3d7dac8d-985f-448c-b683-222ae345caa8"
      },
      "outputs": [
        {
          "output_type": "execute_result",
          "data": {
            "text/plain": [
              "    species  island  bill_length_mm  bill_depth_mm  flipper_length_mm  \\\n",
              "352  Gentoo  Biscoe            45.2           14.8              212.0   \n",
              "353  Gentoo  Biscoe            45.2           14.8              212.0   \n",
              "354  Gentoo  Biscoe            49.9           16.1              213.0   \n",
              "\n",
              "     body_mass_g     sex  \n",
              "352       5200.0  Female  \n",
              "353       5200.0  Female  \n",
              "354       5400.0    Male  "
            ],
            "text/html": [
              "\n",
              "  <div id=\"df-cf7e0a79-a053-4eb9-9f36-fb89f3533d3d\" class=\"colab-df-container\">\n",
              "    <div>\n",
              "<style scoped>\n",
              "    .dataframe tbody tr th:only-of-type {\n",
              "        vertical-align: middle;\n",
              "    }\n",
              "\n",
              "    .dataframe tbody tr th {\n",
              "        vertical-align: top;\n",
              "    }\n",
              "\n",
              "    .dataframe thead th {\n",
              "        text-align: right;\n",
              "    }\n",
              "</style>\n",
              "<table border=\"1\" class=\"dataframe\">\n",
              "  <thead>\n",
              "    <tr style=\"text-align: right;\">\n",
              "      <th></th>\n",
              "      <th>species</th>\n",
              "      <th>island</th>\n",
              "      <th>bill_length_mm</th>\n",
              "      <th>bill_depth_mm</th>\n",
              "      <th>flipper_length_mm</th>\n",
              "      <th>body_mass_g</th>\n",
              "      <th>sex</th>\n",
              "    </tr>\n",
              "  </thead>\n",
              "  <tbody>\n",
              "    <tr>\n",
              "      <th>352</th>\n",
              "      <td>Gentoo</td>\n",
              "      <td>Biscoe</td>\n",
              "      <td>45.2</td>\n",
              "      <td>14.8</td>\n",
              "      <td>212.0</td>\n",
              "      <td>5200.0</td>\n",
              "      <td>Female</td>\n",
              "    </tr>\n",
              "    <tr>\n",
              "      <th>353</th>\n",
              "      <td>Gentoo</td>\n",
              "      <td>Biscoe</td>\n",
              "      <td>45.2</td>\n",
              "      <td>14.8</td>\n",
              "      <td>212.0</td>\n",
              "      <td>5200.0</td>\n",
              "      <td>Female</td>\n",
              "    </tr>\n",
              "    <tr>\n",
              "      <th>354</th>\n",
              "      <td>Gentoo</td>\n",
              "      <td>Biscoe</td>\n",
              "      <td>49.9</td>\n",
              "      <td>16.1</td>\n",
              "      <td>213.0</td>\n",
              "      <td>5400.0</td>\n",
              "      <td>Male</td>\n",
              "    </tr>\n",
              "  </tbody>\n",
              "</table>\n",
              "</div>\n",
              "    <div class=\"colab-df-buttons\">\n",
              "\n",
              "  <div class=\"colab-df-container\">\n",
              "    <button class=\"colab-df-convert\" onclick=\"convertToInteractive('df-cf7e0a79-a053-4eb9-9f36-fb89f3533d3d')\"\n",
              "            title=\"Convert this dataframe to an interactive table.\"\n",
              "            style=\"display:none;\">\n",
              "\n",
              "  <svg xmlns=\"http://www.w3.org/2000/svg\" height=\"24px\" viewBox=\"0 -960 960 960\">\n",
              "    <path d=\"M120-120v-720h720v720H120Zm60-500h600v-160H180v160Zm220 220h160v-160H400v160Zm0 220h160v-160H400v160ZM180-400h160v-160H180v160Zm440 0h160v-160H620v160ZM180-180h160v-160H180v160Zm440 0h160v-160H620v160Z\"/>\n",
              "  </svg>\n",
              "    </button>\n",
              "\n",
              "  <style>\n",
              "    .colab-df-container {\n",
              "      display:flex;\n",
              "      gap: 12px;\n",
              "    }\n",
              "\n",
              "    .colab-df-convert {\n",
              "      background-color: #E8F0FE;\n",
              "      border: none;\n",
              "      border-radius: 50%;\n",
              "      cursor: pointer;\n",
              "      display: none;\n",
              "      fill: #1967D2;\n",
              "      height: 32px;\n",
              "      padding: 0 0 0 0;\n",
              "      width: 32px;\n",
              "    }\n",
              "\n",
              "    .colab-df-convert:hover {\n",
              "      background-color: #E2EBFA;\n",
              "      box-shadow: 0px 1px 2px rgba(60, 64, 67, 0.3), 0px 1px 3px 1px rgba(60, 64, 67, 0.15);\n",
              "      fill: #174EA6;\n",
              "    }\n",
              "\n",
              "    .colab-df-buttons div {\n",
              "      margin-bottom: 4px;\n",
              "    }\n",
              "\n",
              "    [theme=dark] .colab-df-convert {\n",
              "      background-color: #3B4455;\n",
              "      fill: #D2E3FC;\n",
              "    }\n",
              "\n",
              "    [theme=dark] .colab-df-convert:hover {\n",
              "      background-color: #434B5C;\n",
              "      box-shadow: 0px 1px 3px 1px rgba(0, 0, 0, 0.15);\n",
              "      filter: drop-shadow(0px 1px 2px rgba(0, 0, 0, 0.3));\n",
              "      fill: #FFFFFF;\n",
              "    }\n",
              "  </style>\n",
              "\n",
              "    <script>\n",
              "      const buttonEl =\n",
              "        document.querySelector('#df-cf7e0a79-a053-4eb9-9f36-fb89f3533d3d button.colab-df-convert');\n",
              "      buttonEl.style.display =\n",
              "        google.colab.kernel.accessAllowed ? 'block' : 'none';\n",
              "\n",
              "      async function convertToInteractive(key) {\n",
              "        const element = document.querySelector('#df-cf7e0a79-a053-4eb9-9f36-fb89f3533d3d');\n",
              "        const dataTable =\n",
              "          await google.colab.kernel.invokeFunction('convertToInteractive',\n",
              "                                                    [key], {});\n",
              "        if (!dataTable) return;\n",
              "\n",
              "        const docLinkHtml = 'Like what you see? Visit the ' +\n",
              "          '<a target=\"_blank\" href=https://colab.research.google.com/notebooks/data_table.ipynb>data table notebook</a>'\n",
              "          + ' to learn more about interactive tables.';\n",
              "        element.innerHTML = '';\n",
              "        dataTable['output_type'] = 'display_data';\n",
              "        await google.colab.output.renderOutput(dataTable, element);\n",
              "        const docLink = document.createElement('div');\n",
              "        docLink.innerHTML = docLinkHtml;\n",
              "        element.appendChild(docLink);\n",
              "      }\n",
              "    </script>\n",
              "  </div>\n",
              "\n",
              "\n",
              "    <div id=\"df-0fe00f89-960f-4a41-93b4-15bcc4885256\">\n",
              "      <button class=\"colab-df-quickchart\" onclick=\"quickchart('df-0fe00f89-960f-4a41-93b4-15bcc4885256')\"\n",
              "                title=\"Suggest charts\"\n",
              "                style=\"display:none;\">\n",
              "\n",
              "<svg xmlns=\"http://www.w3.org/2000/svg\" height=\"24px\"viewBox=\"0 0 24 24\"\n",
              "     width=\"24px\">\n",
              "    <g>\n",
              "        <path d=\"M19 3H5c-1.1 0-2 .9-2 2v14c0 1.1.9 2 2 2h14c1.1 0 2-.9 2-2V5c0-1.1-.9-2-2-2zM9 17H7v-7h2v7zm4 0h-2V7h2v10zm4 0h-2v-4h2v4z\"/>\n",
              "    </g>\n",
              "</svg>\n",
              "      </button>\n",
              "\n",
              "<style>\n",
              "  .colab-df-quickchart {\n",
              "      --bg-color: #E8F0FE;\n",
              "      --fill-color: #1967D2;\n",
              "      --hover-bg-color: #E2EBFA;\n",
              "      --hover-fill-color: #174EA6;\n",
              "      --disabled-fill-color: #AAA;\n",
              "      --disabled-bg-color: #DDD;\n",
              "  }\n",
              "\n",
              "  [theme=dark] .colab-df-quickchart {\n",
              "      --bg-color: #3B4455;\n",
              "      --fill-color: #D2E3FC;\n",
              "      --hover-bg-color: #434B5C;\n",
              "      --hover-fill-color: #FFFFFF;\n",
              "      --disabled-bg-color: #3B4455;\n",
              "      --disabled-fill-color: #666;\n",
              "  }\n",
              "\n",
              "  .colab-df-quickchart {\n",
              "    background-color: var(--bg-color);\n",
              "    border: none;\n",
              "    border-radius: 50%;\n",
              "    cursor: pointer;\n",
              "    display: none;\n",
              "    fill: var(--fill-color);\n",
              "    height: 32px;\n",
              "    padding: 0;\n",
              "    width: 32px;\n",
              "  }\n",
              "\n",
              "  .colab-df-quickchart:hover {\n",
              "    background-color: var(--hover-bg-color);\n",
              "    box-shadow: 0 1px 2px rgba(60, 64, 67, 0.3), 0 1px 3px 1px rgba(60, 64, 67, 0.15);\n",
              "    fill: var(--button-hover-fill-color);\n",
              "  }\n",
              "\n",
              "  .colab-df-quickchart-complete:disabled,\n",
              "  .colab-df-quickchart-complete:disabled:hover {\n",
              "    background-color: var(--disabled-bg-color);\n",
              "    fill: var(--disabled-fill-color);\n",
              "    box-shadow: none;\n",
              "  }\n",
              "\n",
              "  .colab-df-spinner {\n",
              "    border: 2px solid var(--fill-color);\n",
              "    border-color: transparent;\n",
              "    border-bottom-color: var(--fill-color);\n",
              "    animation:\n",
              "      spin 1s steps(1) infinite;\n",
              "  }\n",
              "\n",
              "  @keyframes spin {\n",
              "    0% {\n",
              "      border-color: transparent;\n",
              "      border-bottom-color: var(--fill-color);\n",
              "      border-left-color: var(--fill-color);\n",
              "    }\n",
              "    20% {\n",
              "      border-color: transparent;\n",
              "      border-left-color: var(--fill-color);\n",
              "      border-top-color: var(--fill-color);\n",
              "    }\n",
              "    30% {\n",
              "      border-color: transparent;\n",
              "      border-left-color: var(--fill-color);\n",
              "      border-top-color: var(--fill-color);\n",
              "      border-right-color: var(--fill-color);\n",
              "    }\n",
              "    40% {\n",
              "      border-color: transparent;\n",
              "      border-right-color: var(--fill-color);\n",
              "      border-top-color: var(--fill-color);\n",
              "    }\n",
              "    60% {\n",
              "      border-color: transparent;\n",
              "      border-right-color: var(--fill-color);\n",
              "    }\n",
              "    80% {\n",
              "      border-color: transparent;\n",
              "      border-right-color: var(--fill-color);\n",
              "      border-bottom-color: var(--fill-color);\n",
              "    }\n",
              "    90% {\n",
              "      border-color: transparent;\n",
              "      border-bottom-color: var(--fill-color);\n",
              "    }\n",
              "  }\n",
              "</style>\n",
              "\n",
              "      <script>\n",
              "        async function quickchart(key) {\n",
              "          const quickchartButtonEl =\n",
              "            document.querySelector('#' + key + ' button');\n",
              "          quickchartButtonEl.disabled = true;  // To prevent multiple clicks.\n",
              "          quickchartButtonEl.classList.add('colab-df-spinner');\n",
              "          try {\n",
              "            const charts = await google.colab.kernel.invokeFunction(\n",
              "                'suggestCharts', [key], {});\n",
              "          } catch (error) {\n",
              "            console.error('Error during call to suggestCharts:', error);\n",
              "          }\n",
              "          quickchartButtonEl.classList.remove('colab-df-spinner');\n",
              "          quickchartButtonEl.classList.add('colab-df-quickchart-complete');\n",
              "        }\n",
              "        (() => {\n",
              "          let quickchartButtonEl =\n",
              "            document.querySelector('#df-0fe00f89-960f-4a41-93b4-15bcc4885256 button');\n",
              "          quickchartButtonEl.style.display =\n",
              "            google.colab.kernel.accessAllowed ? 'block' : 'none';\n",
              "        })();\n",
              "      </script>\n",
              "    </div>\n",
              "\n",
              "    </div>\n",
              "  </div>\n"
            ],
            "application/vnd.google.colaboratory.intrinsic+json": {
              "type": "dataframe",
              "summary": "{\n  \"name\": \"df\",\n  \"rows\": 3,\n  \"fields\": [\n    {\n      \"column\": \"species\",\n      \"properties\": {\n        \"dtype\": \"category\",\n        \"num_unique_values\": 1,\n        \"samples\": [\n          \"Gentoo\"\n        ],\n        \"semantic_type\": \"\",\n        \"description\": \"\"\n      }\n    },\n    {\n      \"column\": \"island\",\n      \"properties\": {\n        \"dtype\": \"category\",\n        \"num_unique_values\": 1,\n        \"samples\": [\n          \"Biscoe\"\n        ],\n        \"semantic_type\": \"\",\n        \"description\": \"\"\n      }\n    },\n    {\n      \"column\": \"bill_length_mm\",\n      \"properties\": {\n        \"dtype\": \"number\",\n        \"std\": 2.7135462651912383,\n        \"min\": 45.2,\n        \"max\": 49.9,\n        \"num_unique_values\": 2,\n        \"samples\": [\n          49.9\n        ],\n        \"semantic_type\": \"\",\n        \"description\": \"\"\n      }\n    },\n    {\n      \"column\": \"bill_depth_mm\",\n      \"properties\": {\n        \"dtype\": \"number\",\n        \"std\": 0.7505553499465139,\n        \"min\": 14.8,\n        \"max\": 16.1,\n        \"num_unique_values\": 2,\n        \"samples\": [\n          16.1\n        ],\n        \"semantic_type\": \"\",\n        \"description\": \"\"\n      }\n    },\n    {\n      \"column\": \"flipper_length_mm\",\n      \"properties\": {\n        \"dtype\": \"number\",\n        \"std\": 0.5773502691896258,\n        \"min\": 212.0,\n        \"max\": 213.0,\n        \"num_unique_values\": 2,\n        \"samples\": [\n          213.0\n        ],\n        \"semantic_type\": \"\",\n        \"description\": \"\"\n      }\n    },\n    {\n      \"column\": \"body_mass_g\",\n      \"properties\": {\n        \"dtype\": \"number\",\n        \"std\": 115.47005383792515,\n        \"min\": 5200.0,\n        \"max\": 5400.0,\n        \"num_unique_values\": 2,\n        \"samples\": [\n          5400.0\n        ],\n        \"semantic_type\": \"\",\n        \"description\": \"\"\n      }\n    },\n    {\n      \"column\": \"sex\",\n      \"properties\": {\n        \"dtype\": \"string\",\n        \"num_unique_values\": 2,\n        \"samples\": [\n          \"Male\"\n        ],\n        \"semantic_type\": \"\",\n        \"description\": \"\"\n      }\n    }\n  ]\n}"
            }
          },
          "metadata": {},
          "execution_count": 12
        }
      ],
      "source": [
        "df.tail(3)"
      ]
    },
    {
      "cell_type": "code",
      "execution_count": 15,
      "metadata": {
        "jupyter": {
          "outputs_hidden": false
        },
        "colab": {
          "base_uri": "https://localhost:8080/"
        },
        "id": "MXGl87x1UWtC",
        "outputId": "c3acac1a-d0ec-47b2-8daa-6d2e561c7d18"
      },
      "outputs": [
        {
          "output_type": "stream",
          "name": "stdout",
          "text": [
            "df.tail(3)"
          ]
        }
      ],
      "source": [
        "!cat solutions/02_03.py"
      ]
    },
    {
      "cell_type": "markdown",
      "metadata": {
        "id": "AY0-BrTCUWtC"
      },
      "source": [
        "---\n",
        "\n",
        "<div class=\"alert alert-block alert-warning\" style=\"padding: 0px; padding-left: 20px; padding-top: 5px;\"><h2 style=\"color: #301E40\">\n",
        "General information about the dataset\n",
        "</h2><br>\n",
        "</div>"
      ]
    },
    {
      "cell_type": "markdown",
      "metadata": {
        "id": "7ao2dypRUWtC"
      },
      "source": [
        "**To get the size of the datasets, we can use the *shape* attribute.**  \n",
        "The first number is the number of row, the second one the number of columns"
      ]
    },
    {
      "cell_type": "markdown",
      "metadata": {
        "id": "FloiQpKfUWtC"
      },
      "source": [
        ">Show the shape of df (do not put brackets at the end)"
      ]
    },
    {
      "cell_type": "code",
      "execution_count": null,
      "metadata": {
        "jupyter": {
          "outputs_hidden": false
        },
        "id": "VGeaE_elUWtD"
      },
      "outputs": [],
      "source": []
    },
    {
      "cell_type": "code",
      "execution_count": null,
      "metadata": {
        "jupyter": {
          "outputs_hidden": false
        },
        "id": "VXlKwzuBUWtD"
      },
      "outputs": [],
      "source": [
        "# !cat solutions/02_04.py"
      ]
    },
    {
      "cell_type": "markdown",
      "metadata": {
        "id": "cL9qMg30UWtD"
      },
      "source": [
        ">Get the names of the columns and info about them (number of non null and type) using the info method."
      ]
    },
    {
      "cell_type": "code",
      "execution_count": null,
      "metadata": {
        "jupyter": {
          "outputs_hidden": false
        },
        "id": "UQGHs9hKUWtE"
      },
      "outputs": [],
      "source": []
    },
    {
      "cell_type": "code",
      "execution_count": null,
      "metadata": {
        "jupyter": {
          "outputs_hidden": false
        },
        "id": "zKTg2VKPUWtE"
      },
      "outputs": [],
      "source": [
        "# !cat solutions/02_05.py"
      ]
    },
    {
      "cell_type": "markdown",
      "metadata": {
        "id": "DOraAkRYUWtF"
      },
      "source": [
        ">Get the columns of the dataframe using the columns attribute."
      ]
    },
    {
      "cell_type": "code",
      "execution_count": null,
      "metadata": {
        "jupyter": {
          "outputs_hidden": false
        },
        "id": "i3mgP2ruUWtF"
      },
      "outputs": [],
      "source": []
    },
    {
      "cell_type": "code",
      "execution_count": null,
      "metadata": {
        "jupyter": {
          "outputs_hidden": false
        },
        "id": "dvS9KNo5UWtF"
      },
      "outputs": [],
      "source": [
        "# !cat solutions/02_06.py"
      ]
    },
    {
      "cell_type": "markdown",
      "metadata": {
        "id": "SDRB9qhEUWtF"
      },
      "source": [
        "---\n",
        "\n",
        "<div class=\"alert alert-block alert-warning\" style=\"padding: 0px; padding-left: 20px; padding-top: 5px;\"><h2 style=\"color: #301E40\">\n",
        "Display settings\n",
        "</h2><br>\n",
        "</div>"
      ]
    },
    {
      "cell_type": "markdown",
      "metadata": {
        "id": "NXyuvt8cUWtG"
      },
      "source": [
        "We can check the display option of the notebook."
      ]
    },
    {
      "cell_type": "code",
      "execution_count": null,
      "metadata": {
        "jupyter": {
          "outputs_hidden": false
        },
        "id": "-mPOAO16UWtG"
      },
      "outputs": [],
      "source": [
        "pd.options.display.max_rows"
      ]
    },
    {
      "cell_type": "markdown",
      "metadata": {
        "id": "LANaDKQeUWtG"
      },
      "source": [
        ">Force pandas to display 25 rows by changing the value of the above."
      ]
    },
    {
      "cell_type": "code",
      "execution_count": null,
      "metadata": {
        "jupyter": {
          "outputs_hidden": false
        },
        "id": "QuorS1xQUWtG"
      },
      "outputs": [],
      "source": []
    },
    {
      "cell_type": "code",
      "execution_count": null,
      "metadata": {
        "jupyter": {
          "outputs_hidden": false
        },
        "id": "E8TYXF1YUWtG"
      },
      "outputs": [],
      "source": [
        "# !cat solutions/02_07.py"
      ]
    },
    {
      "cell_type": "markdown",
      "metadata": {
        "id": "8htx-n2oUWtG"
      },
      "source": [
        "---\n",
        "\n",
        "<div class=\"alert alert-block alert-warning\" style=\"padding: 0px; padding-left: 20px; padding-top: 5px;\"><h2 style=\"color: #301E40\">\n",
        "Subsetting data\n",
        "</h2><br>\n",
        "</div>"
      ]
    },
    {
      "cell_type": "markdown",
      "metadata": {
        "id": "2-t4WC_rUWtN"
      },
      "source": [
        "We can subset a dataframe by label, by index or a combination of both.  \n",
        "There are different ways to do it, using .loc, .iloc and also [].  \n",
        "See [documentation ](https://pandas.pydata.org/pandas-docs/stable/indexing.html)."
      ]
    },
    {
      "cell_type": "markdown",
      "metadata": {
        "id": "cHXG9L-ZUWtN"
      },
      "source": [
        ">Display the 'bill_length_mm' column"
      ]
    },
    {
      "cell_type": "code",
      "execution_count": null,
      "metadata": {
        "jupyter": {
          "outputs_hidden": false
        },
        "id": "Us9LRbmMUWtN"
      },
      "outputs": [],
      "source": []
    },
    {
      "cell_type": "code",
      "execution_count": null,
      "metadata": {
        "jupyter": {
          "outputs_hidden": false
        },
        "id": "cGI24xVRUWtN"
      },
      "outputs": [],
      "source": [
        "# !cat solutions/02_08.py"
      ]
    },
    {
      "cell_type": "markdown",
      "metadata": {
        "id": "s5kDaQoWUWtO"
      },
      "source": [
        "*Note:* We could also use `df.bill_length_mm`, but it's not the greatest idea because it could be mixed with methods and does not work for columns with spaces."
      ]
    },
    {
      "cell_type": "markdown",
      "metadata": {
        "id": "o8RpFH2_UWtO"
      },
      "source": [
        ">Have a look at the 12th observation:"
      ]
    },
    {
      "cell_type": "code",
      "execution_count": null,
      "metadata": {
        "jupyter": {
          "outputs_hidden": false
        },
        "id": "0ArKudolUWtO"
      },
      "outputs": [],
      "source": [
        "# using .iloc (uses positions, \"i\" stands for integer)\n"
      ]
    },
    {
      "cell_type": "code",
      "execution_count": null,
      "metadata": {
        "jupyter": {
          "outputs_hidden": false
        },
        "id": "8goeQBRbUWtO"
      },
      "outputs": [],
      "source": [
        "# !cat solutions/02_09.py"
      ]
    },
    {
      "cell_type": "code",
      "execution_count": null,
      "metadata": {
        "jupyter": {
          "outputs_hidden": false
        },
        "id": "FWvr4bBJUWtO"
      },
      "outputs": [],
      "source": [
        "# using .loc (uses indexes and labels)\n"
      ]
    },
    {
      "cell_type": "code",
      "execution_count": null,
      "metadata": {
        "jupyter": {
          "outputs_hidden": false
        },
        "id": "i7XHFk97UWtO"
      },
      "outputs": [],
      "source": [
        "# !cat solutions/02_10.py"
      ]
    },
    {
      "cell_type": "markdown",
      "metadata": {
        "id": "WE0al10RUWtO"
      },
      "source": [
        ">Display the **bill_length_mm** of the last three observations."
      ]
    },
    {
      "cell_type": "code",
      "execution_count": null,
      "metadata": {
        "jupyter": {
          "outputs_hidden": false
        },
        "id": "HcP_YYrsUWtO"
      },
      "outputs": [],
      "source": [
        "# using .iloc\n"
      ]
    },
    {
      "cell_type": "code",
      "execution_count": null,
      "metadata": {
        "jupyter": {
          "outputs_hidden": false
        },
        "id": "Ad2oPSYmUWtO"
      },
      "outputs": [],
      "source": [
        "# !cat solutions/02_11.py"
      ]
    },
    {
      "cell_type": "code",
      "execution_count": null,
      "metadata": {
        "jupyter": {
          "outputs_hidden": false
        },
        "id": "eoO6iEQWUWtO"
      },
      "outputs": [],
      "source": [
        "# using .loc\n"
      ]
    },
    {
      "cell_type": "code",
      "execution_count": null,
      "metadata": {
        "jupyter": {
          "outputs_hidden": false
        },
        "scrolled": true,
        "id": "_-6fev31UWtP"
      },
      "outputs": [],
      "source": [
        "# !cat solutions/02_12.py"
      ]
    },
    {
      "cell_type": "markdown",
      "metadata": {
        "id": "6_VHle1RUWtP"
      },
      "source": [
        "And finally look at the **flipper_length_mm** and **body_mass_g** of the 146th, the 8th and the 1rst observations:"
      ]
    },
    {
      "cell_type": "code",
      "execution_count": null,
      "metadata": {
        "jupyter": {
          "outputs_hidden": false
        },
        "id": "oisqxQb9UWtP"
      },
      "outputs": [],
      "source": [
        "# using .iloc\n"
      ]
    },
    {
      "cell_type": "code",
      "execution_count": null,
      "metadata": {
        "jupyter": {
          "outputs_hidden": false
        },
        "id": "C6FrGLCtUWtP"
      },
      "outputs": [],
      "source": [
        "# !cat solutions/02_13.py"
      ]
    },
    {
      "cell_type": "code",
      "execution_count": null,
      "metadata": {
        "jupyter": {
          "outputs_hidden": false
        },
        "id": "rl0_otkCUWtP"
      },
      "outputs": [],
      "source": [
        "# using .loc\n"
      ]
    },
    {
      "cell_type": "code",
      "execution_count": null,
      "metadata": {
        "jupyter": {
          "outputs_hidden": false
        },
        "id": "VxWvEZT-UWtP"
      },
      "outputs": [],
      "source": [
        "# !cat solutions/02_14.py"
      ]
    },
    {
      "cell_type": "markdown",
      "metadata": {
        "id": "f_PqBttkUWtP"
      },
      "source": [
        "**!!WARNING!!**  Unlike Python and ``.iloc``, the end value in a range specified by ``.loc`` **includes** the last index specified."
      ]
    },
    {
      "cell_type": "code",
      "execution_count": null,
      "metadata": {
        "jupyter": {
          "outputs_hidden": false
        },
        "scrolled": true,
        "id": "tt1eRBGuUWtQ"
      },
      "outputs": [],
      "source": [
        "df.iloc[5:10]"
      ]
    },
    {
      "cell_type": "code",
      "execution_count": null,
      "metadata": {
        "jupyter": {
          "outputs_hidden": false
        },
        "id": "8_8Y9v4NUWtQ"
      },
      "outputs": [],
      "source": [
        "df.loc[5:10]"
      ]
    },
    {
      "cell_type": "markdown",
      "metadata": {
        "id": "8dijFKX2UWtQ"
      },
      "source": [
        "---\n",
        "\n",
        "<div class=\"alert alert-block alert-warning\" style=\"padding: 0px; padding-left: 20px; padding-top: 5px;\"><h2 style=\"color: #301E40\">\n",
        "Filtering data on conditions\n",
        "</h2><br>\n",
        "</div>"
      ]
    },
    {
      "cell_type": "markdown",
      "metadata": {
        "id": "12u0Jx6bUWtQ"
      },
      "source": [
        "**We can also use condition(s) to filter.**  \n",
        "We want to display the rows of df where **body_mass_g** is greater than 4000. We will start by creating a mask with this condition."
      ]
    },
    {
      "cell_type": "code",
      "execution_count": null,
      "metadata": {
        "jupyter": {
          "outputs_hidden": false
        },
        "scrolled": true,
        "id": "UdUTifcZUWtQ"
      },
      "outputs": [],
      "source": [
        "mask_PW = df['body_mass_g'] > 4000\n",
        "mask_PW"
      ]
    },
    {
      "cell_type": "markdown",
      "metadata": {
        "id": "tZY6XvEAUWtQ"
      },
      "source": [
        "Note that this return booleans. If we pass this mask to our dataframe, it will display only the rows where the mask is True."
      ]
    },
    {
      "cell_type": "code",
      "execution_count": null,
      "metadata": {
        "jupyter": {
          "outputs_hidden": false
        },
        "id": "HA5_36b9UWtQ"
      },
      "outputs": [],
      "source": [
        "df[mask_PW]"
      ]
    },
    {
      "cell_type": "markdown",
      "metadata": {
        "id": "pbrYuFqYUWtQ"
      },
      "source": [
        ">Display the rows of df where **body_mass_g** is greater than 4000 and **flipper_length_mm** is less than 185."
      ]
    },
    {
      "cell_type": "code",
      "execution_count": null,
      "metadata": {
        "jupyter": {
          "outputs_hidden": false
        },
        "id": "YK4yzz8pUWtR"
      },
      "outputs": [],
      "source": []
    },
    {
      "cell_type": "code",
      "execution_count": null,
      "metadata": {
        "jupyter": {
          "outputs_hidden": false
        },
        "id": "2UJWIuVDUWtR"
      },
      "outputs": [],
      "source": [
        "# !cat solutions/02_15.py"
      ]
    },
    {
      "cell_type": "markdown",
      "metadata": {
        "id": "DIpeiU0sUWtR"
      },
      "source": [
        "---\n",
        "\n",
        "<div class=\"alert alert-block alert-warning\" style=\"padding: 0px; padding-left: 20px; padding-top: 5px;\"><h2 style=\"color: #301E40\">\n",
        "Values\n",
        "</h2><br>\n",
        "</div>"
      ]
    },
    {
      "cell_type": "markdown",
      "metadata": {
        "id": "rSpS2xASUWtR"
      },
      "source": [
        "We can get the number of unique values from a certain column by using the `nunique` method.\n",
        "\n",
        "For example, we can get the number of unique values from the species column:"
      ]
    },
    {
      "cell_type": "code",
      "execution_count": null,
      "metadata": {
        "jupyter": {
          "outputs_hidden": false
        },
        "id": "laa1EAX5UWtR"
      },
      "outputs": [],
      "source": [
        "df['species'].nunique()"
      ]
    },
    {
      "cell_type": "markdown",
      "metadata": {
        "id": "q7QIRa4CUWtR"
      },
      "source": [
        "We can also get the list of unique values from a certain column by using the `unique` method.\n",
        ">Return the list of unique values from the species column"
      ]
    },
    {
      "cell_type": "code",
      "execution_count": null,
      "metadata": {
        "jupyter": {
          "outputs_hidden": false
        },
        "id": "I2fe7BO_UWtR"
      },
      "outputs": [],
      "source": []
    },
    {
      "cell_type": "code",
      "execution_count": null,
      "metadata": {
        "jupyter": {
          "outputs_hidden": false
        },
        "id": "AMX5QaSeUWtR"
      },
      "outputs": [],
      "source": [
        "# !cat solutions/02_16.py"
      ]
    },
    {
      "cell_type": "markdown",
      "metadata": {
        "id": "V1vfiPsKUWtR"
      },
      "source": [
        "---\n",
        "\n",
        "<div class=\"alert alert-block alert-warning\" style=\"padding: 0px; padding-left: 20px; padding-top: 5px;\"><h2 style=\"color: #301E40\">\n",
        "Null Values and NaN\n",
        "</h2><br>\n",
        "</div>"
      ]
    },
    {
      "cell_type": "markdown",
      "metadata": {
        "id": "DhBwN2RlUWtR"
      },
      "source": [
        "When you work with data, you will quickly learn that data is never \"clean\". These values are usually referred to as null value. In computation it is best practice to define a \"special number\" that is \"**N**ot **a** **N**umber\" also called NaN.\n",
        "\n",
        "We can use the `isnull` method to know if a value is null or not. It returns boolean values."
      ]
    },
    {
      "cell_type": "code",
      "execution_count": null,
      "metadata": {
        "jupyter": {
          "outputs_hidden": false
        },
        "id": "x_-LP1rEUWtS"
      },
      "outputs": [],
      "source": [
        "df['flipper_length_mm'].isnull()"
      ]
    },
    {
      "cell_type": "markdown",
      "metadata": {
        "id": "25YFooyNUWtS"
      },
      "source": [
        "**We can apply different methods one after the other.**.  \n",
        "For example, we could apply to method `sum` after the method `isnull` to know the number of null observations in the **flipper_length_mm** column.\n",
        ">Get the total number of null values for **flipper_length_mm**."
      ]
    },
    {
      "cell_type": "code",
      "execution_count": null,
      "metadata": {
        "id": "-WE7b8AxUWtS"
      },
      "outputs": [],
      "source": []
    },
    {
      "cell_type": "code",
      "execution_count": null,
      "metadata": {
        "id": "EbMqEqjDUWtS"
      },
      "outputs": [],
      "source": [
        "# !cat solutions/02_17.py"
      ]
    },
    {
      "cell_type": "markdown",
      "metadata": {
        "id": "PqxQUZT7UWtS"
      },
      "source": [
        "To get the count of the different values of a column, we can use the `value_counts` method.\n",
        "\n",
        "For example, for the species column:"
      ]
    },
    {
      "cell_type": "code",
      "execution_count": null,
      "metadata": {
        "jupyter": {
          "outputs_hidden": false
        },
        "id": "3ABuLcjeUWtT"
      },
      "outputs": [],
      "source": [
        "df['species'].value_counts()"
      ]
    },
    {
      "cell_type": "markdown",
      "metadata": {
        "id": "FZAJ56fXUWtT"
      },
      "source": [
        "If we want to know the count of NaN values, we have to pass the value `False` to the parameter **dropna** (set to `True` by default).\n",
        "> Return the proportion for each sex, including the NaN values.\""
      ]
    },
    {
      "cell_type": "code",
      "execution_count": null,
      "metadata": {
        "jupyter": {
          "outputs_hidden": false
        },
        "id": "AJm0crS0UWtT"
      },
      "outputs": [],
      "source": []
    },
    {
      "cell_type": "code",
      "execution_count": null,
      "metadata": {
        "jupyter": {
          "outputs_hidden": false
        },
        "id": "SIzakePGUWtT"
      },
      "outputs": [],
      "source": [
        "# !cat solutions/02_18.py"
      ]
    },
    {
      "cell_type": "markdown",
      "metadata": {
        "id": "J_P4v6iAUWtT"
      },
      "source": [
        "To get the proportion instead of the count of these values, we have to pass the value `True` to the parameter **normalize**.\n",
        ">Return the proportion for each species."
      ]
    },
    {
      "cell_type": "code",
      "execution_count": null,
      "metadata": {
        "jupyter": {
          "outputs_hidden": false
        },
        "id": "S55kLHoQUWtU"
      },
      "outputs": [],
      "source": []
    },
    {
      "cell_type": "code",
      "execution_count": null,
      "metadata": {
        "jupyter": {
          "outputs_hidden": false
        },
        "id": "83SOHFeDUWtU"
      },
      "outputs": [],
      "source": [
        "# !cat solutions/02_19.py"
      ]
    },
    {
      "cell_type": "markdown",
      "metadata": {
        "id": "79QKBi6fUWtV"
      },
      "source": [
        ">Using the index attribute, get the indexes of the observation without **flipper_length_mm**"
      ]
    },
    {
      "cell_type": "code",
      "execution_count": null,
      "metadata": {
        "jupyter": {
          "outputs_hidden": false
        },
        "id": "mExAvgKnUWtV"
      },
      "outputs": [],
      "source": []
    },
    {
      "cell_type": "code",
      "execution_count": null,
      "metadata": {
        "jupyter": {
          "outputs_hidden": false
        },
        "id": "UkY1ARplUWtW"
      },
      "outputs": [],
      "source": [
        "# !cat solutions/02_20.py"
      ]
    },
    {
      "cell_type": "markdown",
      "metadata": {
        "id": "EnU_kVQUUWtW"
      },
      "source": [
        "Use the **[dropna](https://pandas.pydata.org/pandas-docs/stable/reference/api/pandas.DataFrame.dropna.html)** method to remove the row which only has NaN values.\n",
        ">Get the help for the dropna method."
      ]
    },
    {
      "cell_type": "code",
      "execution_count": null,
      "metadata": {
        "jupyter": {
          "outputs_hidden": false
        },
        "id": "1iiJ8VxtUWtX"
      },
      "outputs": [],
      "source": []
    },
    {
      "cell_type": "code",
      "execution_count": null,
      "metadata": {
        "jupyter": {
          "outputs_hidden": false
        },
        "scrolled": true,
        "id": "YK6DYoSnUWtX"
      },
      "outputs": [],
      "source": [
        "# !cat solutions/02_21.py"
      ]
    },
    {
      "cell_type": "markdown",
      "metadata": {
        "id": "gLIoZxwKUWtX"
      },
      "source": [
        ">Use the dropna method to remove the row of `df` where all of the values are NaN, and assign it to `df_2`."
      ]
    },
    {
      "cell_type": "code",
      "execution_count": null,
      "metadata": {
        "jupyter": {
          "outputs_hidden": false
        },
        "id": "r0MDhthuUWtY"
      },
      "outputs": [],
      "source": []
    },
    {
      "cell_type": "code",
      "execution_count": null,
      "metadata": {
        "jupyter": {
          "outputs_hidden": false
        },
        "id": "RS8fX0iuUWtY"
      },
      "outputs": [],
      "source": [
        "# !cat solutions/02_22.py"
      ]
    },
    {
      "cell_type": "markdown",
      "metadata": {
        "id": "-FuiwQjVUWtY"
      },
      "source": [
        "We can use a f-string to format a string. We have to write a `f` before the quotation mark, and write what you want to format between curly brackets."
      ]
    },
    {
      "cell_type": "code",
      "execution_count": null,
      "metadata": {
        "jupyter": {
          "outputs_hidden": false
        },
        "id": "EI05eiNxUWtZ"
      },
      "outputs": [],
      "source": [
        "print(f'shape of df: {df.shape}')"
      ]
    },
    {
      "cell_type": "markdown",
      "metadata": {
        "id": "H_I6D7JRUWtZ"
      },
      "source": [
        "> Print the number of rows of `df_2` using a f_string. Did we lose any rows between `df` and `df_2`? If not, why not?"
      ]
    },
    {
      "cell_type": "code",
      "execution_count": null,
      "metadata": {
        "jupyter": {
          "outputs_hidden": false
        },
        "id": "BD-RcTFgUWtZ"
      },
      "outputs": [],
      "source": []
    },
    {
      "cell_type": "code",
      "execution_count": null,
      "metadata": {
        "jupyter": {
          "outputs_hidden": false
        },
        "id": "Yq1tup7-UWtZ"
      },
      "outputs": [],
      "source": [
        "# !cat solutions/02_23.py"
      ]
    },
    {
      "cell_type": "markdown",
      "metadata": {
        "id": "b5a3tTi4UWtZ"
      },
      "source": [
        ">Use the dropna method to remove the rows of `df_2` which contains any NaN values, and assign it to `df_3`"
      ]
    },
    {
      "cell_type": "code",
      "execution_count": null,
      "metadata": {
        "jupyter": {
          "outputs_hidden": false
        },
        "id": "L1U0q8LkUWtZ"
      },
      "outputs": [],
      "source": [
        "# !cat solutions/02_24.py"
      ]
    },
    {
      "cell_type": "markdown",
      "metadata": {
        "id": "HDSZ2CELUWta"
      },
      "source": [
        ">Print the number of rows of `df_3` using a f_string."
      ]
    },
    {
      "cell_type": "code",
      "execution_count": null,
      "metadata": {
        "jupyter": {
          "outputs_hidden": false
        },
        "id": "CFuWIF2tUWta"
      },
      "outputs": [],
      "source": []
    },
    {
      "cell_type": "code",
      "execution_count": null,
      "metadata": {
        "jupyter": {
          "outputs_hidden": false
        },
        "id": "10sxtONIUWta"
      },
      "outputs": [],
      "source": [
        "# !cat solutions/02_25.py"
      ]
    },
    {
      "cell_type": "markdown",
      "metadata": {
        "id": "q6jMJYmmUWta"
      },
      "source": [
        "---\n",
        "\n",
        "<div class=\"alert alert-block alert-warning\" style=\"padding: 0px; padding-left: 20px; padding-top: 5px;\"><h2 style=\"color: #301E40\">\n",
        "Duplicates\n",
        "</h2><br>\n",
        "</div>"
      ]
    },
    {
      "cell_type": "markdown",
      "metadata": {
        "id": "N6ujbyMPUWta"
      },
      "source": [
        ">Remove the duplicates rows from `df_3`, and assign the new dataframe to `df_4`"
      ]
    },
    {
      "cell_type": "code",
      "execution_count": null,
      "metadata": {
        "jupyter": {
          "outputs_hidden": false
        },
        "id": "zHRa2dYDUWta"
      },
      "outputs": [],
      "source": []
    },
    {
      "cell_type": "code",
      "execution_count": null,
      "metadata": {
        "jupyter": {
          "outputs_hidden": false
        },
        "scrolled": true,
        "id": "_6L2f48ZUWta"
      },
      "outputs": [],
      "source": [
        "# !cat solutions/02_26.py"
      ]
    },
    {
      "cell_type": "code",
      "execution_count": null,
      "metadata": {
        "jupyter": {
          "outputs_hidden": false
        },
        "id": "GFrWV3zLUWtb"
      },
      "outputs": [],
      "source": [
        "# checking the shape of df_4\n",
        "df_4.shape"
      ]
    },
    {
      "cell_type": "markdown",
      "metadata": {
        "id": "HEi4ujt6UWtb"
      },
      "source": [
        "You should see that 4 rows have been dropped."
      ]
    },
    {
      "cell_type": "markdown",
      "metadata": {
        "id": "FQeTCSh_UWtb"
      },
      "source": [
        "---\n",
        "\n",
        "<div class=\"alert alert-block alert-warning\" style=\"padding: 0px; padding-left: 20px; padding-top: 5px;\"><h2 style=\"color: #301E40\">\n",
        "Some stats\n",
        "</h2><br>\n",
        "</div>"
      ]
    },
    {
      "cell_type": "markdown",
      "metadata": {
        "id": "xCKXD4GxUWtb"
      },
      "source": [
        ">Use the describe method to see how the data is distributed (numerical features only!)"
      ]
    },
    {
      "cell_type": "code",
      "execution_count": null,
      "metadata": {
        "jupyter": {
          "outputs_hidden": false
        },
        "id": "T8jkNLpnUWtb"
      },
      "outputs": [],
      "source": []
    },
    {
      "cell_type": "code",
      "execution_count": null,
      "metadata": {
        "jupyter": {
          "outputs_hidden": false
        },
        "id": "B-oYUnMAUWtb"
      },
      "outputs": [],
      "source": [
        "# !cat solutions/02_27.py"
      ]
    },
    {
      "cell_type": "markdown",
      "metadata": {
        "id": "x1ZbedG-UWtb"
      },
      "source": [
        "We can also change the **species** column to save memory space. Note: You may receive a **SettingWithCopyWarning** - you can safely ignore this error for this notebook."
      ]
    },
    {
      "cell_type": "code",
      "execution_count": null,
      "metadata": {
        "jupyter": {
          "outputs_hidden": false
        },
        "id": "Cfs7FuLvUWtb"
      },
      "outputs": [],
      "source": [
        "df_4['species'] = df_4['species'].astype('category')"
      ]
    },
    {
      "cell_type": "markdown",
      "metadata": {
        "id": "EXOXZup3UWtb"
      },
      "source": [
        ">Using the dtypes attribute, check the types of the columns of `df_4`"
      ]
    },
    {
      "cell_type": "code",
      "execution_count": null,
      "metadata": {
        "jupyter": {
          "outputs_hidden": false
        },
        "id": "X-NNr9wBUWtc"
      },
      "outputs": [],
      "source": []
    },
    {
      "cell_type": "code",
      "execution_count": null,
      "metadata": {
        "jupyter": {
          "outputs_hidden": false
        },
        "id": "xUk__ujQUWtc"
      },
      "outputs": [],
      "source": [
        "# !cat solutions/02_28.py"
      ]
    },
    {
      "cell_type": "markdown",
      "metadata": {
        "id": "GTdUu-neUWtc"
      },
      "source": [
        "We can also use the functions count(), mean(), sum(), median(), std(), min() and max() separately if we are only interested in one of those."
      ]
    },
    {
      "cell_type": "markdown",
      "metadata": {
        "id": "D6Xr2SFGUWtc"
      },
      "source": [
        ">Get the minimum for each numerical column of `df_4`"
      ]
    },
    {
      "cell_type": "code",
      "execution_count": null,
      "metadata": {
        "jupyter": {
          "outputs_hidden": false
        },
        "id": "gdfdjSNkUWtc"
      },
      "outputs": [],
      "source": []
    },
    {
      "cell_type": "code",
      "execution_count": null,
      "metadata": {
        "jupyter": {
          "outputs_hidden": false
        },
        "id": "AJ4H76n6UWtc"
      },
      "outputs": [],
      "source": [
        "# !cat solutions/02_29.py"
      ]
    },
    {
      "cell_type": "markdown",
      "metadata": {
        "id": "EUU6OnNZUWtc"
      },
      "source": [
        ">Calculate the maximum of the **flipper_length_mm**"
      ]
    },
    {
      "cell_type": "code",
      "execution_count": null,
      "metadata": {
        "jupyter": {
          "outputs_hidden": false
        },
        "id": "Rw2CIhYMUWtd"
      },
      "outputs": [],
      "source": []
    },
    {
      "cell_type": "code",
      "execution_count": null,
      "metadata": {
        "jupyter": {
          "outputs_hidden": false
        },
        "id": "ZZi2NQ3dUWtd"
      },
      "outputs": [],
      "source": [
        "# !cat solutions/02_30.py"
      ]
    },
    {
      "cell_type": "markdown",
      "metadata": {
        "id": "LUwEyknDUWtd"
      },
      "source": [
        "We can also get information for each species using the `groupby` method.\n",
        "\n",
        "\n",
        "> Get the median for each **species**."
      ]
    },
    {
      "cell_type": "code",
      "execution_count": null,
      "metadata": {
        "jupyter": {
          "outputs_hidden": false
        },
        "id": "uUHDwNl6UWtd"
      },
      "outputs": [],
      "source": [
        "# !cat solutions/02_31.py"
      ]
    },
    {
      "cell_type": "markdown",
      "metadata": {
        "id": "mBB7SyGwUWtd"
      },
      "source": [
        "---\n",
        "\n",
        "<div class=\"alert alert-block alert-warning\" style=\"padding: 0px; padding-left: 20px; padding-top: 5px;\"><h2 style=\"color: #301E40\">\n",
        "Saving the dataframe as a csv file\n",
        "</h2><br>\n",
        "</div>"
      ]
    },
    {
      "cell_type": "markdown",
      "metadata": {
        "id": "s-7aTJgRUWtd"
      },
      "source": [
        ">Save df_4 using this path: `'data/Penguins/my_penguins.csv'`"
      ]
    },
    {
      "cell_type": "code",
      "execution_count": null,
      "metadata": {
        "jupyter": {
          "outputs_hidden": false
        },
        "id": "LOFMcXKOUWtd"
      },
      "outputs": [],
      "source": []
    },
    {
      "cell_type": "code",
      "execution_count": null,
      "metadata": {
        "jupyter": {
          "outputs_hidden": false
        },
        "id": "GDNTtIALUWte"
      },
      "outputs": [],
      "source": [
        "# !cat solutions/02_32.py\n"
      ]
    }
  ],
  "metadata": {
    "kernelspec": {
      "display_name": "Python 3 (system-wide)",
      "language": "python",
      "name": "python3"
    },
    "language_info": {
      "codemirror_mode": {
        "name": "ipython",
        "version": 3
      },
      "file_extension": ".py",
      "mimetype": "text/x-python",
      "name": "python",
      "nbconvert_exporter": "python",
      "pygments_lexer": "ipython3",
      "version": "3.8.5"
    },
    "colab": {
      "provenance": []
    }
  },
  "nbformat": 4,
  "nbformat_minor": 0
}